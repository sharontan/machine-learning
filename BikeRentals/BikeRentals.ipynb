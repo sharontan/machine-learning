{
  "nbformat": 4,
  "nbformat_minor": 0,
  "metadata": {
    "colab": {
      "name": "BikeRentals.ipynb",
      "version": "0.3.2",
      "provenance": []
    },
    "kernelspec": {
      "name": "python3",
      "display_name": "Python 3"
    }
  },
  "cells": [
    {
      "cell_type": "markdown",
      "metadata": {
        "id": "1Lp3SlfRWb7h",
        "colab_type": "text"
      },
      "source": [
        "# Predicting Bike Rentals\n",
        "\n",
        "In this project, we'll be using data from [lUniversity of California, Irvine's website](http://archive.ics.uci.edu/ml/datasets/Bike+Sharing+Dataset)  representing the number of bike rentals for a single hour of a single day to predict the total number of bikes people rented in a given hour.\n",
        "The dataset consists of the following columns:\n",
        "\n",
        "- instant - A unique sequential ID number for each row\n",
        "- dteday - The date of the rentals\n",
        "- season - The season in which the rentals occurred\n",
        "- yr - The year the rentals occurred\n",
        "- mnth - The month the rentals occurred\n",
        "- hr - The hour the rentals occurred\n",
        "- holiday - Whether or not the day was a holiday\n",
        "- weekday - The day of the week (as a number, 0 to 7)\n",
        "- workingday - Whether or not the day was a working day\n",
        "- weathersit - The weather (as a categorical variable)\n",
        "- temp - The temperature, on a 0-1 scale\n",
        "- atemp - The adjusted temperature\n",
        "- hum - The humidity, on a 0-1 scale\n",
        "- windspeed - The wind speed, on a 0-1 scale\n",
        "- casual - The number of casual riders (people who hadn't previously signed up with the bike sharing program)\n",
        "- registered - The number of registered riders (people who had already signed up)\n",
        "- cnt - The total number of bike rentals (casual + registered)\n",
        "\n"
      ]
    },
    {
      "cell_type": "code",
      "metadata": {
        "id": "4IYWtdA_Q3GV",
        "colab_type": "code",
        "colab": {}
      },
      "source": [
        "import pandas as pd"
      ],
      "execution_count": 0,
      "outputs": []
    },
    {
      "cell_type": "code",
      "metadata": {
        "id": "i26P0E2LWQAC",
        "colab_type": "code",
        "outputId": "4dbad4b1-1731-4463-f229-d229fd1f8d09",
        "colab": {
          "base_uri": "https://localhost:8080/",
          "height": 35
        }
      },
      "source": [
        "bikes = pd.read_csv('https://raw.githubusercontent.com/sharontan/machine-learning/master/BikeRentals/hour.csv')\n",
        "bikes.shape"
      ],
      "execution_count": 2,
      "outputs": [
        {
          "output_type": "execute_result",
          "data": {
            "text/plain": [
              "(17379, 17)"
            ]
          },
          "metadata": {
            "tags": []
          },
          "execution_count": 2
        }
      ]
    },
    {
      "cell_type": "code",
      "metadata": {
        "id": "Qt85J17EWVBi",
        "colab_type": "code",
        "outputId": "1f1259a2-73a3-497e-cd10-50fc4ae3d7e9",
        "colab": {
          "base_uri": "https://localhost:8080/",
          "height": 226
        }
      },
      "source": [
        "bikes.head()"
      ],
      "execution_count": 3,
      "outputs": [
        {
          "output_type": "execute_result",
          "data": {
            "text/html": [
              "<div>\n",
              "<style scoped>\n",
              "    .dataframe tbody tr th:only-of-type {\n",
              "        vertical-align: middle;\n",
              "    }\n",
              "\n",
              "    .dataframe tbody tr th {\n",
              "        vertical-align: top;\n",
              "    }\n",
              "\n",
              "    .dataframe thead th {\n",
              "        text-align: right;\n",
              "    }\n",
              "</style>\n",
              "<table border=\"1\" class=\"dataframe\">\n",
              "  <thead>\n",
              "    <tr style=\"text-align: right;\">\n",
              "      <th></th>\n",
              "      <th>instant</th>\n",
              "      <th>dteday</th>\n",
              "      <th>season</th>\n",
              "      <th>yr</th>\n",
              "      <th>mnth</th>\n",
              "      <th>hr</th>\n",
              "      <th>holiday</th>\n",
              "      <th>weekday</th>\n",
              "      <th>workingday</th>\n",
              "      <th>weathersit</th>\n",
              "      <th>temp</th>\n",
              "      <th>atemp</th>\n",
              "      <th>hum</th>\n",
              "      <th>windspeed</th>\n",
              "      <th>casual</th>\n",
              "      <th>registered</th>\n",
              "      <th>cnt</th>\n",
              "    </tr>\n",
              "  </thead>\n",
              "  <tbody>\n",
              "    <tr>\n",
              "      <th>0</th>\n",
              "      <td>1</td>\n",
              "      <td>2011-01-01</td>\n",
              "      <td>1</td>\n",
              "      <td>0</td>\n",
              "      <td>1</td>\n",
              "      <td>0</td>\n",
              "      <td>0</td>\n",
              "      <td>6</td>\n",
              "      <td>0</td>\n",
              "      <td>1</td>\n",
              "      <td>0.24</td>\n",
              "      <td>0.2879</td>\n",
              "      <td>0.81</td>\n",
              "      <td>0.0</td>\n",
              "      <td>3</td>\n",
              "      <td>13</td>\n",
              "      <td>16</td>\n",
              "    </tr>\n",
              "    <tr>\n",
              "      <th>1</th>\n",
              "      <td>2</td>\n",
              "      <td>2011-01-01</td>\n",
              "      <td>1</td>\n",
              "      <td>0</td>\n",
              "      <td>1</td>\n",
              "      <td>1</td>\n",
              "      <td>0</td>\n",
              "      <td>6</td>\n",
              "      <td>0</td>\n",
              "      <td>1</td>\n",
              "      <td>0.22</td>\n",
              "      <td>0.2727</td>\n",
              "      <td>0.80</td>\n",
              "      <td>0.0</td>\n",
              "      <td>8</td>\n",
              "      <td>32</td>\n",
              "      <td>40</td>\n",
              "    </tr>\n",
              "    <tr>\n",
              "      <th>2</th>\n",
              "      <td>3</td>\n",
              "      <td>2011-01-01</td>\n",
              "      <td>1</td>\n",
              "      <td>0</td>\n",
              "      <td>1</td>\n",
              "      <td>2</td>\n",
              "      <td>0</td>\n",
              "      <td>6</td>\n",
              "      <td>0</td>\n",
              "      <td>1</td>\n",
              "      <td>0.22</td>\n",
              "      <td>0.2727</td>\n",
              "      <td>0.80</td>\n",
              "      <td>0.0</td>\n",
              "      <td>5</td>\n",
              "      <td>27</td>\n",
              "      <td>32</td>\n",
              "    </tr>\n",
              "    <tr>\n",
              "      <th>3</th>\n",
              "      <td>4</td>\n",
              "      <td>2011-01-01</td>\n",
              "      <td>1</td>\n",
              "      <td>0</td>\n",
              "      <td>1</td>\n",
              "      <td>3</td>\n",
              "      <td>0</td>\n",
              "      <td>6</td>\n",
              "      <td>0</td>\n",
              "      <td>1</td>\n",
              "      <td>0.24</td>\n",
              "      <td>0.2879</td>\n",
              "      <td>0.75</td>\n",
              "      <td>0.0</td>\n",
              "      <td>3</td>\n",
              "      <td>10</td>\n",
              "      <td>13</td>\n",
              "    </tr>\n",
              "    <tr>\n",
              "      <th>4</th>\n",
              "      <td>5</td>\n",
              "      <td>2011-01-01</td>\n",
              "      <td>1</td>\n",
              "      <td>0</td>\n",
              "      <td>1</td>\n",
              "      <td>4</td>\n",
              "      <td>0</td>\n",
              "      <td>6</td>\n",
              "      <td>0</td>\n",
              "      <td>1</td>\n",
              "      <td>0.24</td>\n",
              "      <td>0.2879</td>\n",
              "      <td>0.75</td>\n",
              "      <td>0.0</td>\n",
              "      <td>0</td>\n",
              "      <td>1</td>\n",
              "      <td>1</td>\n",
              "    </tr>\n",
              "  </tbody>\n",
              "</table>\n",
              "</div>"
            ],
            "text/plain": [
              "   instant      dteday  season  yr  ...  windspeed  casual  registered  cnt\n",
              "0        1  2011-01-01       1   0  ...        0.0       3          13   16\n",
              "1        2  2011-01-01       1   0  ...        0.0       8          32   40\n",
              "2        3  2011-01-01       1   0  ...        0.0       5          27   32\n",
              "3        4  2011-01-01       1   0  ...        0.0       3          10   13\n",
              "4        5  2011-01-01       1   0  ...        0.0       0           1    1\n",
              "\n",
              "[5 rows x 17 columns]"
            ]
          },
          "metadata": {
            "tags": []
          },
          "execution_count": 3
        }
      ]
    },
    {
      "cell_type": "code",
      "metadata": {
        "id": "SSOqQVtjWZRx",
        "colab_type": "code",
        "colab": {}
      },
      "source": [
        "import matplotlib.pyplot as plt\n",
        "%matplotlib inline"
      ],
      "execution_count": 0,
      "outputs": []
    },
    {
      "cell_type": "code",
      "metadata": {
        "id": "KbYOcD2IXGXH",
        "colab_type": "code",
        "outputId": "bec027ee-dacc-43c7-fce8-e8ce34bc9f46",
        "colab": {
          "base_uri": "https://localhost:8080/",
          "height": 361
        }
      },
      "source": [
        "plt.hist(bikes['cnt'])"
      ],
      "execution_count": 5,
      "outputs": [
        {
          "output_type": "execute_result",
          "data": {
            "text/plain": [
              "(array([6972., 3705., 2659., 1660.,  987.,  663.,  369.,  188.,  139.,\n",
              "          37.]),\n",
              " array([  1. ,  98.6, 196.2, 293.8, 391.4, 489. , 586.6, 684.2, 781.8,\n",
              "        879.4, 977. ]),\n",
              " <a list of 10 Patch objects>)"
            ]
          },
          "metadata": {
            "tags": []
          },
          "execution_count": 5
        },
        {
          "output_type": "display_data",
          "data": {
            "image/png": "[encoded data removed]",
            "text/plain": [
              "<Figure size 432x288 with 1 Axes>"
            ]
          },
          "metadata": {
            "tags": []
          }
        }
      ]
    },
    {
      "cell_type": "code",
      "metadata": {
        "id": "gQmKIazmbK21",
        "colab_type": "code",
        "outputId": "6ce16a39-1f6c-42b4-c00a-c2718f2a6192",
        "colab": {
          "base_uri": "https://localhost:8080/",
          "height": 421
        }
      },
      "source": [
        "bikes.info()"
      ],
      "execution_count": 6,
      "outputs": [
        {
          "output_type": "stream",
          "text": [
            "<class 'pandas.core.frame.DataFrame'>\n",
            "RangeIndex: 17379 entries, 0 to 17378\n",
            "Data columns (total 17 columns):\n",
            "instant       17379 non-null int64\n",
            "dteday        17379 non-null object\n",
            "season        17379 non-null int64\n",
            "yr            17379 non-null int64\n",
            "mnth          17379 non-null int64\n",
            "hr            17379 non-null int64\n",
            "holiday       17379 non-null int64\n",
            "weekday       17379 non-null int64\n",
            "workingday    17379 non-null int64\n",
            "weathersit    17379 non-null int64\n",
            "temp          17379 non-null float64\n",
            "atemp         17379 non-null float64\n",
            "hum           17379 non-null float64\n",
            "windspeed     17379 non-null float64\n",
            "casual        17379 non-null int64\n",
            "registered    17379 non-null int64\n",
            "cnt           17379 non-null int64\n",
            "dtypes: float64(4), int64(12), object(1)\n",
            "memory usage: 2.3+ MB\n"
          ],
          "name": "stdout"
        }
      ]
    },
    {
      "cell_type": "markdown",
      "metadata": {
        "id": "1-_Wb82qb0_a",
        "colab_type": "text"
      },
      "source": [
        "This dataset contains one string column and does not contain any null values. The string column relates to the date of rentals. We can easily change the datatype to datetime should we decide to include this in our analysis."
      ]
    },
    {
      "cell_type": "code",
      "metadata": {
        "id": "SO9gvC-6XTU_",
        "colab_type": "code",
        "outputId": "b72f5d0f-663a-44dd-b715-da761b4d4ba8",
        "colab": {
          "base_uri": "https://localhost:8080/",
          "height": 311
        }
      },
      "source": [
        "#Correlations of numeric columns to the bike count column\n",
        "correlations = bikes.corr()['cnt']\n",
        "correlations.sort_values(ascending=False)[1:]"
      ],
      "execution_count": 7,
      "outputs": [
        {
          "output_type": "execute_result",
          "data": {
            "text/plain": [
              "registered    0.972151\n",
              "casual        0.694564\n",
              "temp          0.404772\n",
              "atemp         0.400929\n",
              "hr            0.394071\n",
              "instant       0.278379\n",
              "yr            0.250495\n",
              "season        0.178056\n",
              "mnth          0.120638\n",
              "windspeed     0.093234\n",
              "workingday    0.030284\n",
              "weekday       0.026900\n",
              "holiday      -0.030927\n",
              "weathersit   -0.142426\n",
              "hum          -0.322911\n",
              "Name: cnt, dtype: float64"
            ]
          },
          "metadata": {
            "tags": []
          },
          "execution_count": 7
        }
      ]
    },
    {
      "cell_type": "markdown",
      "metadata": {
        "id": "9VZcP4UYdWaV",
        "colab_type": "text"
      },
      "source": [
        "Rather than using 24 different unique values in the **hr** column, we can organize this column into more meaningful groups like morning, afternoon, evening and night. "
      ]
    },
    {
      "cell_type": "code",
      "metadata": {
        "id": "CATzssw2aekq",
        "colab_type": "code",
        "colab": {}
      },
      "source": [
        "def assign_label(hour):\n",
        "  if 6 <= hour < 12:\n",
        "    return 1\n",
        "  elif 12 <= hour < 18:\n",
        "    return 2\n",
        "  elif 18 <= hour < 24:\n",
        "    return 3\n",
        "  elif 0 <= hour < 6:\n",
        "    return 4  "
      ],
      "execution_count": 0,
      "outputs": []
    },
    {
      "cell_type": "code",
      "metadata": {
        "id": "VZ-EEd2deffg",
        "colab_type": "code",
        "outputId": "8fdef279-b31d-4efa-8f4c-b6ad049a2e6f",
        "colab": {
          "base_uri": "https://localhost:8080/",
          "height": 109
        }
      },
      "source": [
        "bikes['time_label'] = bikes['hr'].apply(assign_label)\n",
        "bikes['time_label'].value_counts()"
      ],
      "execution_count": 9,
      "outputs": [
        {
          "output_type": "execute_result",
          "data": {
            "text/plain": [
              "2    4375\n",
              "3    4368\n",
              "1    4360\n",
              "4    4276\n",
              "Name: time_label, dtype: int64"
            ]
          },
          "metadata": {
            "tags": []
          },
          "execution_count": 9
        }
      ]
    },
    {
      "cell_type": "markdown",
      "metadata": {
        "id": "uMuhlqzwgyfv",
        "colab_type": "text"
      },
      "source": [
        "### Split dataset into training and test sets\n",
        "\n",
        "We will be using 80% of the dataset for training, and the remaining for testing."
      ]
    },
    {
      "cell_type": "code",
      "metadata": {
        "id": "JTCZEyMNeu8o",
        "colab_type": "code",
        "outputId": "77f728c0-fff8-4c8f-8208-e11db1205a66",
        "colab": {
          "base_uri": "https://localhost:8080/",
          "height": 35
        }
      },
      "source": [
        "train = bikes.sample(frac=0.8)\n",
        "subset = bikes.index.isin(train.index)\n",
        "train.shape"
      ],
      "execution_count": 10,
      "outputs": [
        {
          "output_type": "execute_result",
          "data": {
            "text/plain": [
              "(13903, 18)"
            ]
          },
          "metadata": {
            "tags": []
          },
          "execution_count": 10
        }
      ]
    },
    {
      "cell_type": "code",
      "metadata": {
        "id": "YntCimothh8e",
        "colab_type": "code",
        "outputId": "09b7eb46-461a-4f83-c461-14229946a3e6",
        "colab": {
          "base_uri": "https://localhost:8080/",
          "height": 35
        }
      },
      "source": [
        "test = bikes.loc[~subset]\n",
        "test.shape"
      ],
      "execution_count": 11,
      "outputs": [
        {
          "output_type": "execute_result",
          "data": {
            "text/plain": [
              "(3476, 18)"
            ]
          },
          "metadata": {
            "tags": []
          },
          "execution_count": 11
        }
      ]
    },
    {
      "cell_type": "markdown",
      "metadata": {
        "id": "EDv4UhD510VC",
        "colab_type": "text"
      },
      "source": [
        "### Columns not considered for training\n",
        "\n",
        "- **casual**\n",
        "- **registered**\n",
        "\n",
        "The above columns are derived from the target column, **cnt**. Therefore, they should not be used for training.\n",
        "\n",
        "- **dteday**\n",
        "\n",
        "This columns represents dates of rental. Since there are other columns that provide more meaning to our analysis.\n",
        "\n",
        "- **instant**\n",
        "\n",
        "This column represents identifiers for each row which bears no relevance to our projections.\n",
        "\n",
        "\n",
        "\n"
      ]
    },
    {
      "cell_type": "code",
      "metadata": {
        "id": "mGa8VOyGhqlR",
        "colab_type": "code",
        "colab": {}
      },
      "source": [
        "cols = ['season', 'yr', 'hr', 'temp', 'atemp', 'windspeed', 'workingday', 'weekday', 'holiday', 'weathersit', 'hum', 'time_label']\n",
        "target = 'cnt'"
      ],
      "execution_count": 0,
      "outputs": []
    },
    {
      "cell_type": "markdown",
      "metadata": {
        "id": "xrFLMdNq9NlW",
        "colab_type": "text"
      },
      "source": [
        "## Linear Regression"
      ]
    },
    {
      "cell_type": "code",
      "metadata": {
        "id": "49-EG1Rt503Z",
        "colab_type": "code",
        "colab": {}
      },
      "source": [
        "from sklearn.linear_model import LinearRegression\n",
        "from sklearn.metrics import mean_squared_error"
      ],
      "execution_count": 0,
      "outputs": []
    },
    {
      "cell_type": "code",
      "metadata": {
        "id": "ct1_7_qo56_p",
        "colab_type": "code",
        "colab": {}
      },
      "source": [
        "lr = LinearRegression()\n",
        "lr.fit(train[cols], train[target])\n",
        "predictions = lr.predict(test[cols])"
      ],
      "execution_count": 0,
      "outputs": []
    },
    {
      "cell_type": "code",
      "metadata": {
        "id": "1twa3puN6I7b",
        "colab_type": "code",
        "outputId": "af00c993-2be6-480a-ed66-adf78dcdb08d",
        "colab": {
          "base_uri": "https://localhost:8080/",
          "height": 35
        }
      },
      "source": [
        "mse = mean_squared_error(test[target], predictions)\n",
        "rmse = mse ** 0.5\n",
        "rmse"
      ],
      "execution_count": 15,
      "outputs": [
        {
          "output_type": "execute_result",
          "data": {
            "text/plain": [
              "132.93473651896952"
            ]
          },
          "metadata": {
            "tags": []
          },
          "execution_count": 15
        }
      ]
    },
    {
      "cell_type": "markdown",
      "metadata": {
        "id": "yTDIY4H89YPh",
        "colab_type": "text"
      },
      "source": [
        "## Decision Trees"
      ]
    },
    {
      "cell_type": "code",
      "metadata": {
        "id": "_eXqlMjE6Xza",
        "colab_type": "code",
        "colab": {}
      },
      "source": [
        "from sklearn.tree import DecisionTreeRegressor"
      ],
      "execution_count": 0,
      "outputs": []
    },
    {
      "cell_type": "code",
      "metadata": {
        "id": "kVKZHUNk9WZq",
        "colab_type": "code",
        "colab": {}
      },
      "source": [
        "tree = DecisionTreeRegressor(min_samples_leaf=5)\n",
        "tree.fit(train[cols], train[target])\n",
        "tree_predictions = tree.predict(test[cols])"
      ],
      "execution_count": 0,
      "outputs": []
    },
    {
      "cell_type": "code",
      "metadata": {
        "id": "Mvl5am8M-INr",
        "colab_type": "code",
        "outputId": "c00ff16c-994b-492c-db54-ef8a89039183",
        "colab": {
          "base_uri": "https://localhost:8080/",
          "height": 35
        }
      },
      "source": [
        "tree_mse = mean_squared_error(test[target], tree_predictions)\n",
        "tree_rmse = tree_mse ** 0.5\n",
        "tree_rmse"
      ],
      "execution_count": 18,
      "outputs": [
        {
          "output_type": "execute_result",
          "data": {
            "text/plain": [
              "52.32628566732628"
            ]
          },
          "metadata": {
            "tags": []
          },
          "execution_count": 18
        }
      ]
    },
    {
      "cell_type": "markdown",
      "metadata": {
        "id": "yiUP5p75A5bm",
        "colab_type": "text"
      },
      "source": [
        "## Random Forest"
      ]
    },
    {
      "cell_type": "code",
      "metadata": {
        "id": "7QfwrXYG-jNH",
        "colab_type": "code",
        "colab": {}
      },
      "source": [
        "from sklearn.ensemble import RandomForestRegressor"
      ],
      "execution_count": 0,
      "outputs": []
    },
    {
      "cell_type": "code",
      "metadata": {
        "id": "DTqpl7nNAE-z",
        "colab_type": "code",
        "colab": {}
      },
      "source": [
        "forest = RandomForestRegressor(n_estimators=10, min_samples_leaf=5)\n",
        "forest.fit(train[cols], train[target])\n",
        "forest_predictions = forest.predict(test[cols])"
      ],
      "execution_count": 0,
      "outputs": []
    },
    {
      "cell_type": "code",
      "metadata": {
        "id": "k7-rFV9ZAePn",
        "colab_type": "code",
        "outputId": "316575ef-e7f9-4707-d4e5-d6fb4d6a4c65",
        "colab": {
          "base_uri": "https://localhost:8080/",
          "height": 35
        }
      },
      "source": [
        "forest_mse = mean_squared_error(test[target], forest_predictions)\n",
        "forest_rmse = forest_mse ** 0.5\n",
        "forest_rmse"
      ],
      "execution_count": 21,
      "outputs": [
        {
          "output_type": "execute_result",
          "data": {
            "text/plain": [
              "45.8120943142745"
            ]
          },
          "metadata": {
            "tags": []
          },
          "execution_count": 21
        }
      ]
    },
    {
      "cell_type": "markdown",
      "metadata": {
        "id": "hK1CCMT6Dt5d",
        "colab_type": "text"
      },
      "source": [
        "## Conclusion\n",
        "\n",
        "The metric error reduced as we moved from using Linear Regression models to Decision Trees. The metric error reduced even further after we used the Random Forest Regressor for our predictions."
      ]
    }
  ]
}