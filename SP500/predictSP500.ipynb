{
  "nbformat": 4,
  "nbformat_minor": 0,
  "metadata": {
    "colab": {
      "name": "predictSP500.ipynb",
      "version": "0.3.2",
      "provenance": []
    },
    "kernelspec": {
      "name": "python3",
      "display_name": "Python 3"
    }
  },
  "cells": [
    {
      "cell_type": "markdown",
      "metadata": {
        "id": "KtNgS15BDYjY",
        "colab_type": "text"
      },
      "source": [
        "# Predicting the Stock Market\n",
        "\n",
        "We'll be using the S&P 500 dataset to develop a predictive model. We'll train the model with data from 1950-2012, and try to make predictions from 2013-2015."
      ]
    },
    {
      "cell_type": "code",
      "metadata": {
        "id": "PSZJhmvdDxeC",
        "colab_type": "code",
        "colab": {}
      },
      "source": [
        "import pandas as pd"
      ],
      "execution_count": 0,
      "outputs": []
    },
    {
      "cell_type": "code",
      "metadata": {
        "id": "4Q_iTxgxEP-d",
        "colab_type": "code",
        "outputId": "6ce2e555-ae8c-407b-847a-cd3470c069ca",
        "colab": {
          "base_uri": "https://localhost:8080/",
          "height": 206
        }
      },
      "source": [
        "stocks = pd.read_csv('https://raw.githubusercontent.com/sharontan/machine-learning/master/SP500/sphist.csv')\n",
        "stocks.head()"
      ],
      "execution_count": 2,
      "outputs": [
        {
          "output_type": "execute_result",
          "data": {
            "text/html": [
              "<div>\n",
              "<style scoped>\n",
              "    .dataframe tbody tr th:only-of-type {\n",
              "        vertical-align: middle;\n",
              "    }\n",
              "\n",
              "    .dataframe tbody tr th {\n",
              "        vertical-align: top;\n",
              "    }\n",
              "\n",
              "    .dataframe thead th {\n",
              "        text-align: right;\n",
              "    }\n",
              "</style>\n",
              "<table border=\"1\" class=\"dataframe\">\n",
              "  <thead>\n",
              "    <tr style=\"text-align: right;\">\n",
              "      <th></th>\n",
              "      <th>Date</th>\n",
              "      <th>Open</th>\n",
              "      <th>High</th>\n",
              "      <th>Low</th>\n",
              "      <th>Close</th>\n",
              "      <th>Volume</th>\n",
              "      <th>Adj Close</th>\n",
              "    </tr>\n",
              "  </thead>\n",
              "  <tbody>\n",
              "    <tr>\n",
              "      <th>0</th>\n",
              "      <td>2015-12-07</td>\n",
              "      <td>2090.419922</td>\n",
              "      <td>2090.419922</td>\n",
              "      <td>2066.780029</td>\n",
              "      <td>2077.070068</td>\n",
              "      <td>4.043820e+09</td>\n",
              "      <td>2077.070068</td>\n",
              "    </tr>\n",
              "    <tr>\n",
              "      <th>1</th>\n",
              "      <td>2015-12-04</td>\n",
              "      <td>2051.239990</td>\n",
              "      <td>2093.840088</td>\n",
              "      <td>2051.239990</td>\n",
              "      <td>2091.689941</td>\n",
              "      <td>4.214910e+09</td>\n",
              "      <td>2091.689941</td>\n",
              "    </tr>\n",
              "    <tr>\n",
              "      <th>2</th>\n",
              "      <td>2015-12-03</td>\n",
              "      <td>2080.709961</td>\n",
              "      <td>2085.000000</td>\n",
              "      <td>2042.349976</td>\n",
              "      <td>2049.620117</td>\n",
              "      <td>4.306490e+09</td>\n",
              "      <td>2049.620117</td>\n",
              "    </tr>\n",
              "    <tr>\n",
              "      <th>3</th>\n",
              "      <td>2015-12-02</td>\n",
              "      <td>2101.709961</td>\n",
              "      <td>2104.270020</td>\n",
              "      <td>2077.110107</td>\n",
              "      <td>2079.510010</td>\n",
              "      <td>3.950640e+09</td>\n",
              "      <td>2079.510010</td>\n",
              "    </tr>\n",
              "    <tr>\n",
              "      <th>4</th>\n",
              "      <td>2015-12-01</td>\n",
              "      <td>2082.929932</td>\n",
              "      <td>2103.370117</td>\n",
              "      <td>2082.929932</td>\n",
              "      <td>2102.629883</td>\n",
              "      <td>3.712120e+09</td>\n",
              "      <td>2102.629883</td>\n",
              "    </tr>\n",
              "  </tbody>\n",
              "</table>\n",
              "</div>"
            ],
            "text/plain": [
              "         Date         Open         High  ...        Close        Volume    Adj Close\n",
              "0  2015-12-07  2090.419922  2090.419922  ...  2077.070068  4.043820e+09  2077.070068\n",
              "1  2015-12-04  2051.239990  2093.840088  ...  2091.689941  4.214910e+09  2091.689941\n",
              "2  2015-12-03  2080.709961  2085.000000  ...  2049.620117  4.306490e+09  2049.620117\n",
              "3  2015-12-02  2101.709961  2104.270020  ...  2079.510010  3.950640e+09  2079.510010\n",
              "4  2015-12-01  2082.929932  2103.370117  ...  2102.629883  3.712120e+09  2102.629883\n",
              "\n",
              "[5 rows x 7 columns]"
            ]
          },
          "metadata": {
            "tags": []
          },
          "execution_count": 2
        }
      ]
    },
    {
      "cell_type": "code",
      "metadata": {
        "id": "H0Pmuu-bNECm",
        "colab_type": "code",
        "outputId": "329eb38b-1d08-43a0-e436-b4719c3a357b",
        "colab": {
          "base_uri": "https://localhost:8080/",
          "height": 237
        }
      },
      "source": [
        "stocks.info()"
      ],
      "execution_count": 3,
      "outputs": [
        {
          "output_type": "stream",
          "text": [
            "<class 'pandas.core.frame.DataFrame'>\n",
            "RangeIndex: 16590 entries, 0 to 16589\n",
            "Data columns (total 7 columns):\n",
            "Date         16590 non-null object\n",
            "Open         16590 non-null float64\n",
            "High         16590 non-null float64\n",
            "Low          16590 non-null float64\n",
            "Close        16590 non-null float64\n",
            "Volume       16590 non-null float64\n",
            "Adj Close    16590 non-null float64\n",
            "dtypes: float64(6), object(1)\n",
            "memory usage: 907.3+ KB\n"
          ],
          "name": "stdout"
        }
      ]
    },
    {
      "cell_type": "markdown",
      "metadata": {
        "id": "b0WL2-llYvQI",
        "colab_type": "text"
      },
      "source": [
        "### Data Cleaning"
      ]
    },
    {
      "cell_type": "code",
      "metadata": {
        "id": "4wrLVgEOEc4h",
        "colab_type": "code",
        "colab": {}
      },
      "source": [
        "from datetime import datetime\n",
        "\n",
        "#convert Date column from string to datetime format\n",
        "stocks['Date'] = pd.to_datetime(stocks['Date'])\n"
      ],
      "execution_count": 0,
      "outputs": []
    },
    {
      "cell_type": "code",
      "metadata": {
        "id": "TFbkoK9kNBUN",
        "colab_type": "code",
        "outputId": "2e40cb2d-aa71-4fc7-97e9-a6f721677b46",
        "colab": {
          "base_uri": "https://localhost:8080/",
          "height": 206
        }
      },
      "source": [
        "#remove data before Jan 03, 1950\n",
        "after1950 = stocks['Date'] > datetime(year=1950, month=1, day=2)\n",
        "stocks = stocks[after1950]\n",
        "stocks.tail()"
      ],
      "execution_count": 5,
      "outputs": [
        {
          "output_type": "execute_result",
          "data": {
            "text/html": [
              "<div>\n",
              "<style scoped>\n",
              "    .dataframe tbody tr th:only-of-type {\n",
              "        vertical-align: middle;\n",
              "    }\n",
              "\n",
              "    .dataframe tbody tr th {\n",
              "        vertical-align: top;\n",
              "    }\n",
              "\n",
              "    .dataframe thead th {\n",
              "        text-align: right;\n",
              "    }\n",
              "</style>\n",
              "<table border=\"1\" class=\"dataframe\">\n",
              "  <thead>\n",
              "    <tr style=\"text-align: right;\">\n",
              "      <th></th>\n",
              "      <th>Date</th>\n",
              "      <th>Open</th>\n",
              "      <th>High</th>\n",
              "      <th>Low</th>\n",
              "      <th>Close</th>\n",
              "      <th>Volume</th>\n",
              "      <th>Adj Close</th>\n",
              "    </tr>\n",
              "  </thead>\n",
              "  <tbody>\n",
              "    <tr>\n",
              "      <th>16585</th>\n",
              "      <td>1950-01-09</td>\n",
              "      <td>17.08</td>\n",
              "      <td>17.08</td>\n",
              "      <td>17.08</td>\n",
              "      <td>17.08</td>\n",
              "      <td>2520000.0</td>\n",
              "      <td>17.08</td>\n",
              "    </tr>\n",
              "    <tr>\n",
              "      <th>16586</th>\n",
              "      <td>1950-01-06</td>\n",
              "      <td>16.98</td>\n",
              "      <td>16.98</td>\n",
              "      <td>16.98</td>\n",
              "      <td>16.98</td>\n",
              "      <td>2010000.0</td>\n",
              "      <td>16.98</td>\n",
              "    </tr>\n",
              "    <tr>\n",
              "      <th>16587</th>\n",
              "      <td>1950-01-05</td>\n",
              "      <td>16.93</td>\n",
              "      <td>16.93</td>\n",
              "      <td>16.93</td>\n",
              "      <td>16.93</td>\n",
              "      <td>2550000.0</td>\n",
              "      <td>16.93</td>\n",
              "    </tr>\n",
              "    <tr>\n",
              "      <th>16588</th>\n",
              "      <td>1950-01-04</td>\n",
              "      <td>16.85</td>\n",
              "      <td>16.85</td>\n",
              "      <td>16.85</td>\n",
              "      <td>16.85</td>\n",
              "      <td>1890000.0</td>\n",
              "      <td>16.85</td>\n",
              "    </tr>\n",
              "    <tr>\n",
              "      <th>16589</th>\n",
              "      <td>1950-01-03</td>\n",
              "      <td>16.66</td>\n",
              "      <td>16.66</td>\n",
              "      <td>16.66</td>\n",
              "      <td>16.66</td>\n",
              "      <td>1260000.0</td>\n",
              "      <td>16.66</td>\n",
              "    </tr>\n",
              "  </tbody>\n",
              "</table>\n",
              "</div>"
            ],
            "text/plain": [
              "            Date   Open   High    Low  Close     Volume  Adj Close\n",
              "16585 1950-01-09  17.08  17.08  17.08  17.08  2520000.0      17.08\n",
              "16586 1950-01-06  16.98  16.98  16.98  16.98  2010000.0      16.98\n",
              "16587 1950-01-05  16.93  16.93  16.93  16.93  2550000.0      16.93\n",
              "16588 1950-01-04  16.85  16.85  16.85  16.85  1890000.0      16.85\n",
              "16589 1950-01-03  16.66  16.66  16.66  16.66  1260000.0      16.66"
            ]
          },
          "metadata": {
            "tags": []
          },
          "execution_count": 5
        }
      ]
    },
    {
      "cell_type": "code",
      "metadata": {
        "id": "Jf65EggnZdyg",
        "colab_type": "code",
        "outputId": "44dd2d1c-e81a-4690-8dfb-fc4173674da6",
        "colab": {
          "base_uri": "https://localhost:8080/",
          "height": 35
        }
      },
      "source": [
        "stocks = stocks.dropna(axis=0)\n",
        "stocks.shape"
      ],
      "execution_count": 6,
      "outputs": [
        {
          "output_type": "execute_result",
          "data": {
            "text/plain": [
              "(16590, 7)"
            ]
          },
          "metadata": {
            "tags": []
          },
          "execution_count": 6
        }
      ]
    },
    {
      "cell_type": "code",
      "metadata": {
        "id": "a6W0Qiitbr6Q",
        "colab_type": "code",
        "colab": {}
      },
      "source": [
        "#sort stocks based on earliest to latest dates\n",
        "stocks = stocks.sort_values('Date', ascending=True)"
      ],
      "execution_count": 0,
      "outputs": []
    },
    {
      "cell_type": "markdown",
      "metadata": {
        "id": "mFDnlZ7eZ3fl",
        "colab_type": "text"
      },
      "source": [
        "### Generate time series columns\n",
        "\n",
        "All prices based on \"Close\":\n",
        "\n",
        "- Ave_5: average price of past 5 days\n",
        "- Ave_30: average price of past 30 days\n",
        "- Std_365: standard deviation of prices over past 365 days"
      ]
    },
    {
      "cell_type": "code",
      "metadata": {
        "id": "QJMZHhYTZr1U",
        "colab_type": "code",
        "outputId": "1a129fb6-975c-4af5-9d21-54153cafb712",
        "colab": {
          "base_uri": "https://localhost:8080/",
          "height": 206
        }
      },
      "source": [
        "stocks['Ave_5'] = stocks['Close'].rolling(5).mean().shift(1)\n",
        "stocks[['Close', 'Ave_5']].tail()"
      ],
      "execution_count": 8,
      "outputs": [
        {
          "output_type": "execute_result",
          "data": {
            "text/html": [
              "<div>\n",
              "<style scoped>\n",
              "    .dataframe tbody tr th:only-of-type {\n",
              "        vertical-align: middle;\n",
              "    }\n",
              "\n",
              "    .dataframe tbody tr th {\n",
              "        vertical-align: top;\n",
              "    }\n",
              "\n",
              "    .dataframe thead th {\n",
              "        text-align: right;\n",
              "    }\n",
              "</style>\n",
              "<table border=\"1\" class=\"dataframe\">\n",
              "  <thead>\n",
              "    <tr style=\"text-align: right;\">\n",
              "      <th></th>\n",
              "      <th>Close</th>\n",
              "      <th>Ave_5</th>\n",
              "    </tr>\n",
              "  </thead>\n",
              "  <tbody>\n",
              "    <tr>\n",
              "      <th>4</th>\n",
              "      <td>2102.629883</td>\n",
              "      <td>2087.024023</td>\n",
              "    </tr>\n",
              "    <tr>\n",
              "      <th>3</th>\n",
              "      <td>2079.510010</td>\n",
              "      <td>2090.231982</td>\n",
              "    </tr>\n",
              "    <tr>\n",
              "      <th>2</th>\n",
              "      <td>2049.620117</td>\n",
              "      <td>2088.306006</td>\n",
              "    </tr>\n",
              "    <tr>\n",
              "      <th>1</th>\n",
              "      <td>2091.689941</td>\n",
              "      <td>2080.456006</td>\n",
              "    </tr>\n",
              "    <tr>\n",
              "      <th>0</th>\n",
              "      <td>2077.070068</td>\n",
              "      <td>2080.771973</td>\n",
              "    </tr>\n",
              "  </tbody>\n",
              "</table>\n",
              "</div>"
            ],
            "text/plain": [
              "         Close        Ave_5\n",
              "4  2102.629883  2087.024023\n",
              "3  2079.510010  2090.231982\n",
              "2  2049.620117  2088.306006\n",
              "1  2091.689941  2080.456006\n",
              "0  2077.070068  2080.771973"
            ]
          },
          "metadata": {
            "tags": []
          },
          "execution_count": 8
        }
      ]
    },
    {
      "cell_type": "code",
      "metadata": {
        "id": "sClyGjVcaumx",
        "colab_type": "code",
        "outputId": "3679f4db-e849-4d99-c145-cb13d1c0d507",
        "colab": {
          "base_uri": "https://localhost:8080/",
          "height": 35
        }
      },
      "source": [
        "stocks['Ave_30'] = stocks['Close'].rolling(30).mean().shift(1)\n",
        "stocks['Ave_30'].isnull().sum()"
      ],
      "execution_count": 9,
      "outputs": [
        {
          "output_type": "execute_result",
          "data": {
            "text/plain": [
              "30"
            ]
          },
          "metadata": {
            "tags": []
          },
          "execution_count": 9
        }
      ]
    },
    {
      "cell_type": "code",
      "metadata": {
        "id": "oJtngrJzbUzE",
        "colab_type": "code",
        "outputId": "ea228a2f-785e-46e7-8b08-9a1fdcb2fab1",
        "colab": {
          "base_uri": "https://localhost:8080/",
          "height": 35
        }
      },
      "source": [
        "stocks['Std_5'] = stocks['Close'].rolling(5).std().shift(1)\n",
        "stocks['Std_5'].isnull().sum()"
      ],
      "execution_count": 10,
      "outputs": [
        {
          "output_type": "execute_result",
          "data": {
            "text/plain": [
              "5"
            ]
          },
          "metadata": {
            "tags": []
          },
          "execution_count": 10
        }
      ]
    },
    {
      "cell_type": "code",
      "metadata": {
        "id": "riBBCcUrcMhI",
        "colab_type": "code",
        "colab": {}
      },
      "source": [
        "#split dataset into training set (before 2013) and test set (after 2013)\n",
        "cutoff = datetime(year=2013, month=1, day=1)\n",
        "train = stocks[stocks['Date'] < cutoff]\n",
        "test = stocks[stocks['Date'] >= cutoff]"
      ],
      "execution_count": 0,
      "outputs": []
    },
    {
      "cell_type": "code",
      "metadata": {
        "id": "1bRaoH9XdNFM",
        "colab_type": "code",
        "outputId": "0e9fbd87-eb04-4823-a8fa-bb97cd246b7a",
        "colab": {
          "base_uri": "https://localhost:8080/",
          "height": 219
        }
      },
      "source": [
        "train.isnull().sum()"
      ],
      "execution_count": 12,
      "outputs": [
        {
          "output_type": "execute_result",
          "data": {
            "text/plain": [
              "Date          0\n",
              "Open          0\n",
              "High          0\n",
              "Low           0\n",
              "Close         0\n",
              "Volume        0\n",
              "Adj Close     0\n",
              "Ave_5         5\n",
              "Ave_30       30\n",
              "Std_5         5\n",
              "dtype: int64"
            ]
          },
          "metadata": {
            "tags": []
          },
          "execution_count": 12
        }
      ]
    },
    {
      "cell_type": "code",
      "metadata": {
        "id": "dlAFmKQidOw2",
        "colab_type": "code",
        "outputId": "46ca5025-420f-4df4-b7f4-8bda6e568466",
        "colab": {
          "base_uri": "https://localhost:8080/",
          "height": 219
        }
      },
      "source": [
        "test.isnull().sum()"
      ],
      "execution_count": 13,
      "outputs": [
        {
          "output_type": "execute_result",
          "data": {
            "text/plain": [
              "Date         0\n",
              "Open         0\n",
              "High         0\n",
              "Low          0\n",
              "Close        0\n",
              "Volume       0\n",
              "Adj Close    0\n",
              "Ave_5        0\n",
              "Ave_30       0\n",
              "Std_5        0\n",
              "dtype: int64"
            ]
          },
          "metadata": {
            "tags": []
          },
          "execution_count": 13
        }
      ]
    },
    {
      "cell_type": "code",
      "metadata": {
        "id": "dVCTXcRPe46_",
        "colab_type": "code",
        "outputId": "ba4fd10d-2db8-417e-8f6f-343d51d4642d",
        "colab": {
          "base_uri": "https://localhost:8080/",
          "height": 219
        }
      },
      "source": [
        "#drop null values in train set\n",
        "train = train.dropna(axis=0)\n",
        "train.isnull().sum()"
      ],
      "execution_count": 14,
      "outputs": [
        {
          "output_type": "execute_result",
          "data": {
            "text/plain": [
              "Date         0\n",
              "Open         0\n",
              "High         0\n",
              "Low          0\n",
              "Close        0\n",
              "Volume       0\n",
              "Adj Close    0\n",
              "Ave_5        0\n",
              "Ave_30       0\n",
              "Std_5        0\n",
              "dtype: int64"
            ]
          },
          "metadata": {
            "tags": []
          },
          "execution_count": 14
        }
      ]
    },
    {
      "cell_type": "code",
      "metadata": {
        "id": "v2F3RuhddQyN",
        "colab_type": "code",
        "colab": {}
      },
      "source": [
        "from sklearn.metrics import mean_squared_error\n",
        "from sklearn.linear_model import LinearRegression"
      ],
      "execution_count": 0,
      "outputs": []
    },
    {
      "cell_type": "code",
      "metadata": {
        "id": "m47a03lbd0V4",
        "colab_type": "code",
        "outputId": "7ee61846-4ee5-40af-89d8-7890ca874066",
        "colab": {
          "base_uri": "https://localhost:8080/",
          "height": 35
        }
      },
      "source": [
        "lr = LinearRegression()\n",
        "lr.fit(train[['Ave_5', 'Ave_30', \"Std_5\"]], train['Close'])"
      ],
      "execution_count": 16,
      "outputs": [
        {
          "output_type": "execute_result",
          "data": {
            "text/plain": [
              "LinearRegression(copy_X=True, fit_intercept=True, n_jobs=None, normalize=False)"
            ]
          },
          "metadata": {
            "tags": []
          },
          "execution_count": 16
        }
      ]
    },
    {
      "cell_type": "code",
      "metadata": {
        "id": "V9uEs_4oeJDT",
        "colab_type": "code",
        "colab": {}
      },
      "source": [
        "predictions = lr.predict(test[['Ave_5', 'Ave_30', \"Std_5\"]])"
      ],
      "execution_count": 0,
      "outputs": []
    },
    {
      "cell_type": "code",
      "metadata": {
        "id": "afVCUmRhfaLa",
        "colab_type": "code",
        "colab": {}
      },
      "source": [
        "mse = mean_squared_error(test['Close'], predictions)"
      ],
      "execution_count": 0,
      "outputs": []
    },
    {
      "cell_type": "code",
      "metadata": {
        "id": "Nlfo88aafszG",
        "colab_type": "code",
        "outputId": "b34bf393-acd5-4c38-ec5f-7b1a2847cd94",
        "colab": {
          "base_uri": "https://localhost:8080/",
          "height": 35
        }
      },
      "source": [
        "rmse = mse ** 0.5\n",
        "rmse"
      ],
      "execution_count": 19,
      "outputs": [
        {
          "output_type": "execute_result",
          "data": {
            "text/plain": [
              "22.198219543695416"
            ]
          },
          "metadata": {
            "tags": []
          },
          "execution_count": 19
        }
      ]
    },
    {
      "cell_type": "markdown",
      "metadata": {
        "id": "zoCnZB3xgDTk",
        "colab_type": "text"
      },
      "source": [
        "## Conclusion\n",
        "\n",
        "Using time series calculating average prices over 5 days, 30 days and standard deviation over 5 days, we were able to linear regression to predict prices with a root mean squared error of 22.20."
      ]
    }
  ]
}