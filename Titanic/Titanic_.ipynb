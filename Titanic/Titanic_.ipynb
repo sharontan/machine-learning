{
  "nbformat": 4,
  "nbformat_minor": 0,
  "metadata": {
    "colab": {
      "name": "Titanic_.ipynb",
      "version": "0.3.2",
      "provenance": []
    },
    "kernelspec": {
      "name": "python3",
      "display_name": "Python 3"
    }
  },
  "cells": [
    {
      "cell_type": "markdown",
      "metadata": {
        "id": "zcndhXmvNNE9",
        "colab_type": "text"
      },
      "source": [
        " # Survival on the Titanic\n",
        " \n",
        "This is a data set of different information about passengers onboard the Titanic. We will use that information to predict whether the passengers' survival. *Source of data: Kaggle Competition*\n",
        "\n",
        "The training set contains data we can use to train our model. It has a number of feature columns which contain various descriptive data, as well as a column of the target values we are trying to predict: in this case, **Survival**.\n",
        "\n",
        "The testing set contains all of the same feature columns, but is missing the target value column. Additionally, the testing set usually has fewer observations (rows) than the training set."
      ]
    },
    {
      "cell_type": "code",
      "metadata": {
        "id": "UHxeKeL4HaBZ",
        "colab_type": "code",
        "colab": {}
      },
      "source": [
        "import pandas as pd"
      ],
      "execution_count": 0,
      "outputs": []
    },
    {
      "cell_type": "code",
      "metadata": {
        "id": "bhcDcJO2M9Yk",
        "colab_type": "code",
        "outputId": "51093380-a808-4f1e-9031-a892ca95dc07",
        "colab": {
          "base_uri": "https://localhost:8080/",
          "height": 302
        }
      },
      "source": [
        "train = pd.read_csv('https://raw.githubusercontent.com/sharontan/machine-learning/master/Titanic/train.csv')\n",
        "train.info()"
      ],
      "execution_count": 2,
      "outputs": [
        {
          "output_type": "stream",
          "text": [
            "<class 'pandas.core.frame.DataFrame'>\n",
            "RangeIndex: 891 entries, 0 to 890\n",
            "Data columns (total 12 columns):\n",
            "PassengerId    891 non-null int64\n",
            "Survived       891 non-null int64\n",
            "Pclass         891 non-null int64\n",
            "Name           891 non-null object\n",
            "Sex            891 non-null object\n",
            "Age            714 non-null float64\n",
            "SibSp          891 non-null int64\n",
            "Parch          891 non-null int64\n",
            "Ticket         891 non-null object\n",
            "Fare           891 non-null float64\n",
            "Cabin          204 non-null object\n",
            "Embarked       889 non-null object\n",
            "dtypes: float64(2), int64(5), object(5)\n",
            "memory usage: 83.6+ KB\n"
          ],
          "name": "stdout"
        }
      ]
    },
    {
      "cell_type": "code",
      "metadata": {
        "id": "FCVbVKfnOKBO",
        "colab_type": "code",
        "outputId": "04e60f60-875e-4282-a93b-ccfa2f592a3b",
        "colab": {
          "base_uri": "https://localhost:8080/",
          "height": 286
        }
      },
      "source": [
        "test = pd.read_csv('https://raw.githubusercontent.com/sharontan/machine-learning/master/Titanic/test.csv')\n",
        "test.info()"
      ],
      "execution_count": 3,
      "outputs": [
        {
          "output_type": "stream",
          "text": [
            "<class 'pandas.core.frame.DataFrame'>\n",
            "RangeIndex: 418 entries, 0 to 417\n",
            "Data columns (total 11 columns):\n",
            "PassengerId    418 non-null int64\n",
            "Pclass         418 non-null int64\n",
            "Name           418 non-null object\n",
            "Sex            418 non-null object\n",
            "Age            332 non-null float64\n",
            "SibSp          418 non-null int64\n",
            "Parch          418 non-null int64\n",
            "Ticket         418 non-null object\n",
            "Fare           417 non-null float64\n",
            "Cabin          91 non-null object\n",
            "Embarked       418 non-null object\n",
            "dtypes: float64(2), int64(4), object(5)\n",
            "memory usage: 36.0+ KB\n"
          ],
          "name": "stdout"
        }
      ]
    },
    {
      "cell_type": "markdown",
      "metadata": {
        "id": "VhvO2kE5PRyD",
        "colab_type": "text"
      },
      "source": [
        "### Data cleaning\n",
        "\n",
        "From the info() command above, we see 3 columns with missing data:\n",
        "1. Age\n",
        "2. Cabin\n",
        "3. Embarked"
      ]
    },
    {
      "cell_type": "code",
      "metadata": {
        "id": "FqxQgYQKOV8u",
        "colab_type": "code",
        "outputId": "82e217b8-e6d2-4175-eb89-2943e703377f",
        "colab": {
          "base_uri": "https://localhost:8080/",
          "height": 185
        }
      },
      "source": [
        "train['Age'].unique()"
      ],
      "execution_count": 4,
      "outputs": [
        {
          "output_type": "execute_result",
          "data": {
            "text/plain": [
              "array([22.  , 38.  , 26.  , 35.  ,   nan, 54.  ,  2.  , 27.  , 14.  ,\n",
              "        4.  , 58.  , 20.  , 39.  , 55.  , 31.  , 34.  , 15.  , 28.  ,\n",
              "        8.  , 19.  , 40.  , 66.  , 42.  , 21.  , 18.  ,  3.  ,  7.  ,\n",
              "       49.  , 29.  , 65.  , 28.5 ,  5.  , 11.  , 45.  , 17.  , 32.  ,\n",
              "       16.  , 25.  ,  0.83, 30.  , 33.  , 23.  , 24.  , 46.  , 59.  ,\n",
              "       71.  , 37.  , 47.  , 14.5 , 70.5 , 32.5 , 12.  ,  9.  , 36.5 ,\n",
              "       51.  , 55.5 , 40.5 , 44.  ,  1.  , 61.  , 56.  , 50.  , 36.  ,\n",
              "       45.5 , 20.5 , 62.  , 41.  , 52.  , 63.  , 23.5 ,  0.92, 43.  ,\n",
              "       60.  , 10.  , 64.  , 13.  , 48.  ,  0.75, 53.  , 57.  , 80.  ,\n",
              "       70.  , 24.5 ,  6.  ,  0.67, 30.5 ,  0.42, 34.5 , 74.  ])"
            ]
          },
          "metadata": {
            "tags": []
          },
          "execution_count": 4
        }
      ]
    },
    {
      "cell_type": "markdown",
      "metadata": {
        "id": "CJEjOfZARRdU",
        "colab_type": "text"
      },
      "source": [
        "We will sort these ages in bins since this is an array of a wide range of numbers. We will set nan to -0.5 for under the category of missing data.\n",
        "\n",
        "* Missing : -1 to 0\n",
        "* Infant: 0 to 5\n",
        "* Child: 5 to 12\n",
        "* Teenager: 12 to 18\n",
        "* Young Adult: 18 to 35\n",
        "* Adult: 35 to 60\n",
        "* Senior: 60 to 100\n",
        "\n",
        "\n",
        "\n"
      ]
    },
    {
      "cell_type": "code",
      "metadata": {
        "id": "SzJOOJBSRQ7i",
        "colab_type": "code",
        "colab": {}
      },
      "source": [
        "age_cut = [-1,0,5,12,18,35,60,100]\n",
        "age_label_names = ['Missing', 'Infant', 'Child', 'Teenager', 'Young Adult', 'Adult', 'Senior']"
      ],
      "execution_count": 0,
      "outputs": []
    },
    {
      "cell_type": "code",
      "metadata": {
        "id": "gxE-9AjLTGqe",
        "colab_type": "code",
        "colab": {}
      },
      "source": [
        "train['Age'] = train['Age'].fillna(-0.5)"
      ],
      "execution_count": 0,
      "outputs": []
    },
    {
      "cell_type": "code",
      "metadata": {
        "id": "WTC-e1YRTeDH",
        "colab_type": "code",
        "outputId": "e6223b6e-9255-478c-fd36-74b78518d07a",
        "colab": {
          "base_uri": "https://localhost:8080/",
          "height": 151
        }
      },
      "source": [
        "train['age_category'] = pd.cut(train['Age'], age_cut, labels=age_label_names)\n",
        "train['age_category'].value_counts()"
      ],
      "execution_count": 7,
      "outputs": [
        {
          "output_type": "execute_result",
          "data": {
            "text/plain": [
              "Young Adult    358\n",
              "Adult          195\n",
              "Missing        177\n",
              "Teenager        70\n",
              "Infant          44\n",
              "Child           25\n",
              "Senior          22\n",
              "Name: age_category, dtype: int64"
            ]
          },
          "metadata": {
            "tags": []
          },
          "execution_count": 7
        }
      ]
    },
    {
      "cell_type": "code",
      "metadata": {
        "id": "EVHiSCSsU1I9",
        "colab_type": "code",
        "colab": {}
      },
      "source": [
        "#drop age column\n",
        "train = train.drop('Age', axis=1)"
      ],
      "execution_count": 0,
      "outputs": []
    },
    {
      "cell_type": "code",
      "metadata": {
        "id": "Q2ZS-jJyPmjW",
        "colab_type": "code",
        "outputId": "fe82f604-6e49-4182-8f50-5a9482c4207f",
        "colab": {
          "base_uri": "https://localhost:8080/",
          "height": 319
        }
      },
      "source": [
        "train['Cabin'].unique()"
      ],
      "execution_count": 9,
      "outputs": [
        {
          "output_type": "execute_result",
          "data": {
            "text/plain": [
              "array([nan, 'C85', 'C123', 'E46', 'G6', 'C103', 'D56', 'A6',\n",
              "       'C23 C25 C27', 'B78', 'D33', 'B30', 'C52', 'B28', 'C83', 'F33',\n",
              "       'F G73', 'E31', 'A5', 'D10 D12', 'D26', 'C110', 'B58 B60', 'E101',\n",
              "       'F E69', 'D47', 'B86', 'F2', 'C2', 'E33', 'B19', 'A7', 'C49', 'F4',\n",
              "       'A32', 'B4', 'B80', 'A31', 'D36', 'D15', 'C93', 'C78', 'D35',\n",
              "       'C87', 'B77', 'E67', 'B94', 'C125', 'C99', 'C118', 'D7', 'A19',\n",
              "       'B49', 'D', 'C22 C26', 'C106', 'C65', 'E36', 'C54',\n",
              "       'B57 B59 B63 B66', 'C7', 'E34', 'C32', 'B18', 'C124', 'C91', 'E40',\n",
              "       'T', 'C128', 'D37', 'B35', 'E50', 'C82', 'B96 B98', 'E10', 'E44',\n",
              "       'A34', 'C104', 'C111', 'C92', 'E38', 'D21', 'E12', 'E63', 'A14',\n",
              "       'B37', 'C30', 'D20', 'B79', 'E25', 'D46', 'B73', 'C95', 'B38',\n",
              "       'B39', 'B22', 'C86', 'C70', 'A16', 'C101', 'C68', 'A10', 'E68',\n",
              "       'B41', 'A20', 'D19', 'D50', 'D9', 'A23', 'B50', 'A26', 'D48',\n",
              "       'E58', 'C126', 'B71', 'B51 B53 B55', 'D49', 'B5', 'B20', 'F G63',\n",
              "       'C62 C64', 'E24', 'C90', 'C45', 'E8', 'B101', 'D45', 'C46', 'D30',\n",
              "       'E121', 'D11', 'E77', 'F38', 'B3', 'D6', 'B82 B84', 'D17', 'A36',\n",
              "       'B102', 'B69', 'E49', 'C47', 'D28', 'E17', 'A24', 'C50', 'B42',\n",
              "       'C148'], dtype=object)"
            ]
          },
          "metadata": {
            "tags": []
          },
          "execution_count": 9
        }
      ]
    },
    {
      "cell_type": "markdown",
      "metadata": {
        "id": "7n61jp3bT0dk",
        "colab_type": "text"
      },
      "source": [
        "We will extract the first letter of the **Cabin** column to get the category of cabin rather than deal with so many unique values."
      ]
    },
    {
      "cell_type": "code",
      "metadata": {
        "id": "tTJBurZlTz4L",
        "colab_type": "code",
        "colab": {}
      },
      "source": [
        "train['cabin_category'] = train['Cabin'].str[0]"
      ],
      "execution_count": 0,
      "outputs": []
    },
    {
      "cell_type": "code",
      "metadata": {
        "id": "sWEBrFJcTzSv",
        "colab_type": "code",
        "outputId": "b60c7dd6-77f7-4911-f8c4-b0ba38172668",
        "colab": {
          "base_uri": "https://localhost:8080/",
          "height": 185
        }
      },
      "source": [
        "train['cabin_category'] = train['cabin_category'].fillna('Unknown')\n",
        "train['cabin_category'].value_counts()"
      ],
      "execution_count": 11,
      "outputs": [
        {
          "output_type": "execute_result",
          "data": {
            "text/plain": [
              "Unknown    687\n",
              "C           59\n",
              "B           47\n",
              "D           33\n",
              "E           32\n",
              "A           15\n",
              "F           13\n",
              "G            4\n",
              "T            1\n",
              "Name: cabin_category, dtype: int64"
            ]
          },
          "metadata": {
            "tags": []
          },
          "execution_count": 11
        }
      ]
    },
    {
      "cell_type": "code",
      "metadata": {
        "id": "2xUngATHoMtV",
        "colab_type": "code",
        "colab": {}
      },
      "source": [
        "train = train.drop('Cabin', axis=1)"
      ],
      "execution_count": 0,
      "outputs": []
    },
    {
      "cell_type": "code",
      "metadata": {
        "id": "P71oXHiRQaH7",
        "colab_type": "code",
        "outputId": "ab413e55-5980-4bb5-8983-338addc8ca37",
        "colab": {
          "base_uri": "https://localhost:8080/",
          "height": 84
        }
      },
      "source": [
        "train['Embarked'].value_counts()"
      ],
      "execution_count": 13,
      "outputs": [
        {
          "output_type": "execute_result",
          "data": {
            "text/plain": [
              "S    644\n",
              "C    168\n",
              "Q     77\n",
              "Name: Embarked, dtype: int64"
            ]
          },
          "metadata": {
            "tags": []
          },
          "execution_count": 13
        }
      ]
    },
    {
      "cell_type": "markdown",
      "metadata": {
        "id": "N5lEmxCWWJUA",
        "colab_type": "text"
      },
      "source": [
        "Since most of the data is present in this column, we will replace the missing data with the mode,"
      ]
    },
    {
      "cell_type": "code",
      "metadata": {
        "id": "bsreLWRxQmGD",
        "colab_type": "code",
        "outputId": "10bf2cec-b678-4cf1-ec01-884e68f13f81",
        "colab": {
          "base_uri": "https://localhost:8080/",
          "height": 84
        }
      },
      "source": [
        "train['Embarked'] = train['Embarked'].fillna('S')\n",
        "train['Embarked'].value_counts()"
      ],
      "execution_count": 14,
      "outputs": [
        {
          "output_type": "execute_result",
          "data": {
            "text/plain": [
              "S    646\n",
              "C    168\n",
              "Q     77\n",
              "Name: Embarked, dtype: int64"
            ]
          },
          "metadata": {
            "tags": []
          },
          "execution_count": 14
        }
      ]
    },
    {
      "cell_type": "markdown",
      "metadata": {
        "id": "2lSzC9e4Wumf",
        "colab_type": "text"
      },
      "source": [
        "Aside from performing the same functions above on the test data, we will also have to examine if there are any missing data in the test set columns that have not been missing in the train set.\n",
        "\n",
        "The test set has missing data in the same columns as the train set with one more column with missng data: **Fare**. Since the data are of float type, and there is only one missing value, we can replace it with the mean of the column. We will use the mean of the train set as it has more values to give a more accurate value."
      ]
    },
    {
      "cell_type": "code",
      "metadata": {
        "id": "pCw4yPzJWbS-",
        "colab_type": "code",
        "colab": {}
      },
      "source": [
        "test['Fare'] = test['Fare'].fillna(train['Fare'].mean())"
      ],
      "execution_count": 0,
      "outputs": []
    },
    {
      "cell_type": "code",
      "metadata": {
        "id": "rb_-9QWyapgP",
        "colab_type": "code",
        "colab": {}
      },
      "source": [
        "#Age\n",
        "test['Age'] = test['Age'].fillna(-0.5)\n",
        "test['age_category'] = pd.cut(test['Age'], age_cut, labels=age_label_names)"
      ],
      "execution_count": 0,
      "outputs": []
    },
    {
      "cell_type": "code",
      "metadata": {
        "id": "rhbDkXg6bIaw",
        "colab_type": "code",
        "colab": {}
      },
      "source": [
        "test = test.drop('Age', axis=1)"
      ],
      "execution_count": 0,
      "outputs": []
    },
    {
      "cell_type": "code",
      "metadata": {
        "id": "tzJuufxEn1by",
        "colab_type": "code",
        "colab": {}
      },
      "source": [
        "#Cabin\n",
        "test['cabin_category'] = test['Cabin'].str[0]\n",
        "test['cabin_category'] = test['cabin_category'].fillna('Unknown')"
      ],
      "execution_count": 0,
      "outputs": []
    },
    {
      "cell_type": "code",
      "metadata": {
        "id": "etpWaNt5oEIc",
        "colab_type": "code",
        "colab": {}
      },
      "source": [
        "test = test.drop('Cabin', axis=1)"
      ],
      "execution_count": 0,
      "outputs": []
    },
    {
      "cell_type": "code",
      "metadata": {
        "id": "MqkbcO-0oQ11",
        "colab_type": "code",
        "colab": {}
      },
      "source": [
        "#Embarked\n",
        "test['Embarked'] = test['Embarked'].fillna('S')"
      ],
      "execution_count": 0,
      "outputs": []
    },
    {
      "cell_type": "code",
      "metadata": {
        "id": "toGvNFQQocb-",
        "colab_type": "code",
        "outputId": "e34f91f3-ac56-4dca-bd14-5e8895ec3942",
        "colab": {
          "base_uri": "https://localhost:8080/",
          "height": 302
        }
      },
      "source": [
        "train.info()"
      ],
      "execution_count": 21,
      "outputs": [
        {
          "output_type": "stream",
          "text": [
            "<class 'pandas.core.frame.DataFrame'>\n",
            "RangeIndex: 891 entries, 0 to 890\n",
            "Data columns (total 12 columns):\n",
            "PassengerId       891 non-null int64\n",
            "Survived          891 non-null int64\n",
            "Pclass            891 non-null int64\n",
            "Name              891 non-null object\n",
            "Sex               891 non-null object\n",
            "SibSp             891 non-null int64\n",
            "Parch             891 non-null int64\n",
            "Ticket            891 non-null object\n",
            "Fare              891 non-null float64\n",
            "Embarked          891 non-null object\n",
            "age_category      891 non-null category\n",
            "cabin_category    891 non-null object\n",
            "dtypes: category(1), float64(1), int64(5), object(5)\n",
            "memory usage: 77.9+ KB\n"
          ],
          "name": "stdout"
        }
      ]
    },
    {
      "cell_type": "code",
      "metadata": {
        "id": "CL-TtIJHooxV",
        "colab_type": "code",
        "outputId": "d5dd1734-eedc-4418-970b-cf1575b865ef",
        "colab": {
          "base_uri": "https://localhost:8080/",
          "height": 286
        }
      },
      "source": [
        "test.info()"
      ],
      "execution_count": 22,
      "outputs": [
        {
          "output_type": "stream",
          "text": [
            "<class 'pandas.core.frame.DataFrame'>\n",
            "RangeIndex: 418 entries, 0 to 417\n",
            "Data columns (total 11 columns):\n",
            "PassengerId       418 non-null int64\n",
            "Pclass            418 non-null int64\n",
            "Name              418 non-null object\n",
            "Sex               418 non-null object\n",
            "SibSp             418 non-null int64\n",
            "Parch             418 non-null int64\n",
            "Ticket            418 non-null object\n",
            "Fare              418 non-null float64\n",
            "Embarked          418 non-null object\n",
            "age_category      418 non-null category\n",
            "cabin_category    418 non-null object\n",
            "dtypes: category(1), float64(1), int64(4), object(5)\n",
            "memory usage: 33.5+ KB\n"
          ],
          "name": "stdout"
        }
      ]
    },
    {
      "cell_type": "markdown",
      "metadata": {
        "id": "l0tBdmbYrDmF",
        "colab_type": "text"
      },
      "source": [
        "### Feature engineering\n",
        "\n",
        "As found above, we have filled in the missing data in all columns. However, there are still 5 object/string columns which cannot be used for our machine learning models in scikit-learn. \n",
        "\n",
        "1. Name\n",
        "2. Sex\n",
        "3. Ticket\n",
        "4. Embarked\n",
        "5. cabin_category\n",
        "\n",
        "We can convert **Sex**, **Embarked**, and **cabin_category** into categorical columns. We will have to perform some processing before we can use the **Name** column. The **Ticket** column, however, is just that ticket number for the passengers. We can drop this column for our analysis.\n",
        "\n"
      ]
    },
    {
      "cell_type": "code",
      "metadata": {
        "id": "mt6c7Db6xErL",
        "colab_type": "code",
        "colab": {}
      },
      "source": [
        "train = train.drop('Ticket', axis=1)"
      ],
      "execution_count": 0,
      "outputs": []
    },
    {
      "cell_type": "code",
      "metadata": {
        "id": "jMWz4iTqxLOW",
        "colab_type": "code",
        "colab": {}
      },
      "source": [
        "test = test.drop('Ticket', axis=1)"
      ],
      "execution_count": 0,
      "outputs": []
    },
    {
      "cell_type": "code",
      "metadata": {
        "id": "kbZE61rMoqeE",
        "colab_type": "code",
        "outputId": "ce13f505-357c-4c6d-bdf8-087c22f6a869",
        "colab": {
          "base_uri": "https://localhost:8080/",
          "height": 118
        }
      },
      "source": [
        "train['Name'].head()"
      ],
      "execution_count": 25,
      "outputs": [
        {
          "output_type": "execute_result",
          "data": {
            "text/plain": [
              "0                              Braund, Mr. Owen Harris\n",
              "1    Cumings, Mrs. John Bradley (Florence Briggs Th...\n",
              "2                               Heikkinen, Miss. Laina\n",
              "3         Futrelle, Mrs. Jacques Heath (Lily May Peel)\n",
              "4                             Allen, Mr. William Henry\n",
              "Name: Name, dtype: object"
            ]
          },
          "metadata": {
            "tags": []
          },
          "execution_count": 25
        }
      ]
    },
    {
      "cell_type": "markdown",
      "metadata": {
        "id": "n54p2rmPtKlv",
        "colab_type": "text"
      },
      "source": [
        "We can extract the titles from the name of the passengers to obtain a column with more meaningful values."
      ]
    },
    {
      "cell_type": "code",
      "metadata": {
        "id": "PhZ4_lAHtGBg",
        "colab_type": "code",
        "colab": {}
      },
      "source": [
        "titles = {\n",
        "        \"Mr\" :         \"Mr\",\n",
        "        \"Mme\":         \"Mrs\",\n",
        "        \"Ms\":          \"Mrs\",\n",
        "        \"Mrs\" :        \"Mrs\",\n",
        "        \"Master\" :     \"Master\",\n",
        "        \"Mlle\":        \"Miss\",\n",
        "        \"Miss\" :       \"Miss\",\n",
        "        \"Capt\":        \"Officer\",\n",
        "        \"Col\":         \"Officer\",\n",
        "        \"Major\":       \"Officer\",\n",
        "        \"Dr\":          \"Officer\",\n",
        "        \"Rev\":         \"Officer\",\n",
        "        \"Jonkheer\":    \"Royalty\",\n",
        "        \"Don\":         \"Royalty\",\n",
        "        \"Sir\" :        \"Royalty\",\n",
        "        \"Countess\":    \"Royalty\",\n",
        "        \"Dona\":        \"Royalty\",\n",
        "        \"Lady\" :       \"Royalty\"\n",
        "    }"
      ],
      "execution_count": 0,
      "outputs": []
    },
    {
      "cell_type": "code",
      "metadata": {
        "id": "JD9hf9uttmkf",
        "colab_type": "code",
        "colab": {}
      },
      "source": [
        "extracted = train['Name'].str.extract('([A-Za-z]+)\\.', expand=False)"
      ],
      "execution_count": 0,
      "outputs": []
    },
    {
      "cell_type": "code",
      "metadata": {
        "id": "mnR-g-RMuXOk",
        "colab_type": "code",
        "colab": {}
      },
      "source": [
        "train['title'] = extracted.map(titles)"
      ],
      "execution_count": 0,
      "outputs": []
    },
    {
      "cell_type": "code",
      "metadata": {
        "id": "R441vnSQvOx5",
        "colab_type": "code",
        "colab": {}
      },
      "source": [
        "train = train.drop('Name', axis=1)"
      ],
      "execution_count": 0,
      "outputs": []
    },
    {
      "cell_type": "code",
      "metadata": {
        "id": "7jYjHGhKu7p_",
        "colab_type": "code",
        "colab": {}
      },
      "source": [
        "test['title'] = test['Name'].str.extract('([A-Za-z]+)\\.', expand=False).map(titles)"
      ],
      "execution_count": 0,
      "outputs": []
    },
    {
      "cell_type": "code",
      "metadata": {
        "id": "kFjKZY1FvJI0",
        "colab_type": "code",
        "colab": {}
      },
      "source": [
        "test = test.drop('Name', axis=1)"
      ],
      "execution_count": 0,
      "outputs": []
    },
    {
      "cell_type": "code",
      "metadata": {
        "id": "xBVt7bxvxSqB",
        "colab_type": "code",
        "outputId": "4cd4e4a2-aaaa-4aca-8eda-67572c5793b7",
        "colab": {
          "base_uri": "https://localhost:8080/",
          "height": 215
        }
      },
      "source": [
        "train.head()"
      ],
      "execution_count": 32,
      "outputs": [
        {
          "output_type": "execute_result",
          "data": {
            "text/html": [
              "<div>\n",
              "<style scoped>\n",
              "    .dataframe tbody tr th:only-of-type {\n",
              "        vertical-align: middle;\n",
              "    }\n",
              "\n",
              "    .dataframe tbody tr th {\n",
              "        vertical-align: top;\n",
              "    }\n",
              "\n",
              "    .dataframe thead th {\n",
              "        text-align: right;\n",
              "    }\n",
              "</style>\n",
              "<table border=\"1\" class=\"dataframe\">\n",
              "  <thead>\n",
              "    <tr style=\"text-align: right;\">\n",
              "      <th></th>\n",
              "      <th>PassengerId</th>\n",
              "      <th>Survived</th>\n",
              "      <th>Pclass</th>\n",
              "      <th>Sex</th>\n",
              "      <th>SibSp</th>\n",
              "      <th>Parch</th>\n",
              "      <th>Fare</th>\n",
              "      <th>Embarked</th>\n",
              "      <th>age_category</th>\n",
              "      <th>cabin_category</th>\n",
              "      <th>title</th>\n",
              "    </tr>\n",
              "  </thead>\n",
              "  <tbody>\n",
              "    <tr>\n",
              "      <th>0</th>\n",
              "      <td>1</td>\n",
              "      <td>0</td>\n",
              "      <td>3</td>\n",
              "      <td>male</td>\n",
              "      <td>1</td>\n",
              "      <td>0</td>\n",
              "      <td>7.2500</td>\n",
              "      <td>S</td>\n",
              "      <td>Young Adult</td>\n",
              "      <td>Unknown</td>\n",
              "      <td>Mr</td>\n",
              "    </tr>\n",
              "    <tr>\n",
              "      <th>1</th>\n",
              "      <td>2</td>\n",
              "      <td>1</td>\n",
              "      <td>1</td>\n",
              "      <td>female</td>\n",
              "      <td>1</td>\n",
              "      <td>0</td>\n",
              "      <td>71.2833</td>\n",
              "      <td>C</td>\n",
              "      <td>Adult</td>\n",
              "      <td>C</td>\n",
              "      <td>Mrs</td>\n",
              "    </tr>\n",
              "    <tr>\n",
              "      <th>2</th>\n",
              "      <td>3</td>\n",
              "      <td>1</td>\n",
              "      <td>3</td>\n",
              "      <td>female</td>\n",
              "      <td>0</td>\n",
              "      <td>0</td>\n",
              "      <td>7.9250</td>\n",
              "      <td>S</td>\n",
              "      <td>Young Adult</td>\n",
              "      <td>Unknown</td>\n",
              "      <td>Miss</td>\n",
              "    </tr>\n",
              "    <tr>\n",
              "      <th>3</th>\n",
              "      <td>4</td>\n",
              "      <td>1</td>\n",
              "      <td>1</td>\n",
              "      <td>female</td>\n",
              "      <td>1</td>\n",
              "      <td>0</td>\n",
              "      <td>53.1000</td>\n",
              "      <td>S</td>\n",
              "      <td>Young Adult</td>\n",
              "      <td>C</td>\n",
              "      <td>Mrs</td>\n",
              "    </tr>\n",
              "    <tr>\n",
              "      <th>4</th>\n",
              "      <td>5</td>\n",
              "      <td>0</td>\n",
              "      <td>3</td>\n",
              "      <td>male</td>\n",
              "      <td>0</td>\n",
              "      <td>0</td>\n",
              "      <td>8.0500</td>\n",
              "      <td>S</td>\n",
              "      <td>Young Adult</td>\n",
              "      <td>Unknown</td>\n",
              "      <td>Mr</td>\n",
              "    </tr>\n",
              "  </tbody>\n",
              "</table>\n",
              "</div>"
            ],
            "text/plain": [
              "   PassengerId  Survived  Pclass  ... age_category  cabin_category  title\n",
              "0            1         0       3  ...  Young Adult         Unknown     Mr\n",
              "1            2         1       1  ...        Adult               C    Mrs\n",
              "2            3         1       3  ...  Young Adult         Unknown   Miss\n",
              "3            4         1       1  ...  Young Adult               C    Mrs\n",
              "4            5         0       3  ...  Young Adult         Unknown     Mr\n",
              "\n",
              "[5 rows x 11 columns]"
            ]
          },
          "metadata": {
            "tags": []
          },
          "execution_count": 32
        }
      ]
    },
    {
      "cell_type": "markdown",
      "metadata": {
        "id": "CRsn6Yb-xzGs",
        "colab_type": "text"
      },
      "source": [
        "We will need to perform more processing on the **Fare** column since it has too many wide ranging values."
      ]
    },
    {
      "cell_type": "code",
      "metadata": {
        "id": "LB-6w7ruxvUw",
        "colab_type": "code",
        "outputId": "73b66659-6203-426d-f18f-8a434cca5fab",
        "colab": {
          "base_uri": "https://localhost:8080/",
          "height": 722
        }
      },
      "source": [
        "train['Fare'].unique()"
      ],
      "execution_count": 33,
      "outputs": [
        {
          "output_type": "execute_result",
          "data": {
            "text/plain": [
              "array([  7.25  ,  71.2833,   7.925 ,  53.1   ,   8.05  ,   8.4583,\n",
              "        51.8625,  21.075 ,  11.1333,  30.0708,  16.7   ,  26.55  ,\n",
              "        31.275 ,   7.8542,  16.    ,  29.125 ,  13.    ,  18.    ,\n",
              "         7.225 ,  26.    ,   8.0292,  35.5   ,  31.3875, 263.    ,\n",
              "         7.8792,   7.8958,  27.7208, 146.5208,   7.75  ,  10.5   ,\n",
              "        82.1708,  52.    ,   7.2292,  11.2417,   9.475 ,  21.    ,\n",
              "        41.5792,  15.5   ,  21.6792,  17.8   ,  39.6875,   7.8   ,\n",
              "        76.7292,  61.9792,  27.75  ,  46.9   ,  80.    ,  83.475 ,\n",
              "        27.9   ,  15.2458,   8.1583,   8.6625,  73.5   ,  14.4542,\n",
              "        56.4958,   7.65  ,  29.    ,  12.475 ,   9.    ,   9.5   ,\n",
              "         7.7875,  47.1   ,  15.85  ,  34.375 ,  61.175 ,  20.575 ,\n",
              "        34.6542,  63.3583,  23.    ,  77.2875,   8.6542,   7.775 ,\n",
              "        24.15  ,   9.825 ,  14.4583, 247.5208,   7.1417,  22.3583,\n",
              "         6.975 ,   7.05  ,  14.5   ,  15.0458,  26.2833,   9.2167,\n",
              "        79.2   ,   6.75  ,  11.5   ,  36.75  ,   7.7958,  12.525 ,\n",
              "        66.6   ,   7.3125,  61.3792,   7.7333,  69.55  ,  16.1   ,\n",
              "        15.75  ,  20.525 ,  55.    ,  25.925 ,  33.5   ,  30.6958,\n",
              "        25.4667,  28.7125,   0.    ,  15.05  ,  39.    ,  22.025 ,\n",
              "        50.    ,   8.4042,   6.4958,  10.4625,  18.7875,  31.    ,\n",
              "       113.275 ,  27.    ,  76.2917,  90.    ,   9.35  ,  13.5   ,\n",
              "         7.55  ,  26.25  ,  12.275 ,   7.125 ,  52.5542,  20.2125,\n",
              "        86.5   , 512.3292,  79.65  , 153.4625, 135.6333,  19.5   ,\n",
              "        29.7   ,  77.9583,  20.25  ,  78.85  ,  91.0792,  12.875 ,\n",
              "         8.85  , 151.55  ,  30.5   ,  23.25  ,  12.35  , 110.8833,\n",
              "       108.9   ,  24.    ,  56.9292,  83.1583, 262.375 ,  14.    ,\n",
              "       164.8667, 134.5   ,   6.2375,  57.9792,  28.5   , 133.65  ,\n",
              "        15.9   ,   9.225 ,  35.    ,  75.25  ,  69.3   ,  55.4417,\n",
              "       211.5   ,   4.0125, 227.525 ,  15.7417,   7.7292,  12.    ,\n",
              "       120.    ,  12.65  ,  18.75  ,   6.8583,  32.5   ,   7.875 ,\n",
              "        14.4   ,  55.9   ,   8.1125,  81.8583,  19.2583,  19.9667,\n",
              "        89.1042,  38.5   ,   7.725 ,  13.7917,   9.8375,   7.0458,\n",
              "         7.5208,  12.2875,   9.5875,  49.5042,  78.2667,  15.1   ,\n",
              "         7.6292,  22.525 ,  26.2875,  59.4   ,   7.4958,  34.0208,\n",
              "        93.5   , 221.7792, 106.425 ,  49.5   ,  71.    ,  13.8625,\n",
              "         7.8292,  39.6   ,  17.4   ,  51.4792,  26.3875,  30.    ,\n",
              "        40.125 ,   8.7125,  15.    ,  33.    ,  42.4   ,  15.55  ,\n",
              "        65.    ,  32.3208,   7.0542,   8.4333,  25.5875,   9.8417,\n",
              "         8.1375,  10.1708, 211.3375,  57.    ,  13.4167,   7.7417,\n",
              "         9.4833,   7.7375,   8.3625,  23.45  ,  25.9292,   8.6833,\n",
              "         8.5167,   7.8875,  37.0042,   6.45  ,   6.95  ,   8.3   ,\n",
              "         6.4375,  39.4   ,  14.1083,  13.8583,  50.4958,   5.    ,\n",
              "         9.8458,  10.5167])"
            ]
          },
          "metadata": {
            "tags": []
          },
          "execution_count": 33
        }
      ]
    },
    {
      "cell_type": "markdown",
      "metadata": {
        "id": "9kjjSFJgyDHD",
        "colab_type": "text"
      },
      "source": [
        "We will cut them into bins like we did for age."
      ]
    },
    {
      "cell_type": "code",
      "metadata": {
        "id": "JUbb9d3dx-zm",
        "colab_type": "code",
        "outputId": "526e55c3-798c-4cbf-8240-05230e90dc83",
        "colab": {
          "base_uri": "https://localhost:8080/",
          "height": 34
        }
      },
      "source": [
        "train['Fare'].min()"
      ],
      "execution_count": 34,
      "outputs": [
        {
          "output_type": "execute_result",
          "data": {
            "text/plain": [
              "0.0"
            ]
          },
          "metadata": {
            "tags": []
          },
          "execution_count": 34
        }
      ]
    },
    {
      "cell_type": "code",
      "metadata": {
        "id": "ojQMHkARyMMR",
        "colab_type": "code",
        "outputId": "11c09e97-e836-4520-be9c-4f11c97773bf",
        "colab": {
          "base_uri": "https://localhost:8080/",
          "height": 34
        }
      },
      "source": [
        "train['Fare'].max()"
      ],
      "execution_count": 35,
      "outputs": [
        {
          "output_type": "execute_result",
          "data": {
            "text/plain": [
              "512.3292"
            ]
          },
          "metadata": {
            "tags": []
          },
          "execution_count": 35
        }
      ]
    },
    {
      "cell_type": "code",
      "metadata": {
        "id": "4jNuC7FRySXq",
        "colab_type": "code",
        "outputId": "ec23a1de-a8d5-498b-938d-ad74db4e1f95",
        "colab": {
          "base_uri": "https://localhost:8080/",
          "height": 34
        }
      },
      "source": [
        "train['Fare'].median()"
      ],
      "execution_count": 36,
      "outputs": [
        {
          "output_type": "execute_result",
          "data": {
            "text/plain": [
              "14.4542"
            ]
          },
          "metadata": {
            "tags": []
          },
          "execution_count": 36
        }
      ]
    },
    {
      "cell_type": "code",
      "metadata": {
        "id": "EUhUMgNCypwc",
        "colab_type": "code",
        "colab": {}
      },
      "source": [
        "fare_cut = [-1, 10, 50, 100, 600]\n",
        "fare_cat = ['0-10', '10-50', '50-100', '100+']"
      ],
      "execution_count": 0,
      "outputs": []
    },
    {
      "cell_type": "code",
      "metadata": {
        "id": "axl5OnD1zDKu",
        "colab_type": "code",
        "outputId": "87432e64-93f3-4491-c4af-49421e66e0f7",
        "colab": {
          "base_uri": "https://localhost:8080/",
          "height": 101
        }
      },
      "source": [
        "train['fare_category'] = pd.cut(train['Fare'], fare_cut, labels=fare_cat)\n",
        "train['fare_category'].value_counts()"
      ],
      "execution_count": 38,
      "outputs": [
        {
          "output_type": "execute_result",
          "data": {
            "text/plain": [
              "10-50     395\n",
              "0-10      336\n",
              "50-100    107\n",
              "100+       53\n",
              "Name: fare_category, dtype: int64"
            ]
          },
          "metadata": {
            "tags": []
          },
          "execution_count": 38
        }
      ]
    },
    {
      "cell_type": "code",
      "metadata": {
        "id": "ABDXydqTzXOW",
        "colab_type": "code",
        "colab": {}
      },
      "source": [
        "train = train.drop('Fare', axis=1)"
      ],
      "execution_count": 0,
      "outputs": []
    },
    {
      "cell_type": "code",
      "metadata": {
        "id": "c8TEp0yXzsED",
        "colab_type": "code",
        "colab": {}
      },
      "source": [
        "test['fare_category'] = pd.cut(test['Fare'], fare_cut, labels=fare_cat)"
      ],
      "execution_count": 0,
      "outputs": []
    },
    {
      "cell_type": "code",
      "metadata": {
        "id": "lEeS3L-Az0Rf",
        "colab_type": "code",
        "colab": {}
      },
      "source": [
        "test = test.drop('Fare', axis=1)"
      ],
      "execution_count": 0,
      "outputs": []
    },
    {
      "cell_type": "code",
      "metadata": {
        "id": "U5jAT5sM5f3S",
        "colab_type": "code",
        "outputId": "4937dc61-d37d-40be-f438-337469f1e2c3",
        "colab": {
          "base_uri": "https://localhost:8080/",
          "height": 185
        }
      },
      "source": [
        "train['family_size'] = train['SibSp'] + train['Parch']\n",
        "train['family_size'].value_counts()"
      ],
      "execution_count": 42,
      "outputs": [
        {
          "output_type": "execute_result",
          "data": {
            "text/plain": [
              "0     537\n",
              "1     161\n",
              "2     102\n",
              "3      29\n",
              "5      22\n",
              "4      15\n",
              "6      12\n",
              "10      7\n",
              "7       6\n",
              "Name: family_size, dtype: int64"
            ]
          },
          "metadata": {
            "tags": []
          },
          "execution_count": 42
        }
      ]
    },
    {
      "cell_type": "markdown",
      "metadata": {
        "id": "pLyRILpM535x",
        "colab_type": "text"
      },
      "source": [
        "We can group them into alone or not alone for our machine learning model."
      ]
    },
    {
      "cell_type": "code",
      "metadata": {
        "id": "bKzZ41Is5fqT",
        "colab_type": "code",
        "outputId": "ce944c75-6249-4a04-e8d8-8ec9b6cfe032",
        "colab": {
          "base_uri": "https://localhost:8080/",
          "height": 67
        }
      },
      "source": [
        "train['alone'] = train['family_size'].apply(lambda x : 1 if x==0 else 0)\n",
        "train['alone'].value_counts()"
      ],
      "execution_count": 43,
      "outputs": [
        {
          "output_type": "execute_result",
          "data": {
            "text/plain": [
              "1    537\n",
              "0    354\n",
              "Name: alone, dtype: int64"
            ]
          },
          "metadata": {
            "tags": []
          },
          "execution_count": 43
        }
      ]
    },
    {
      "cell_type": "code",
      "metadata": {
        "id": "EX1hdFdm7QHp",
        "colab_type": "code",
        "colab": {}
      },
      "source": [
        "test['family_size'] = test['SibSp'] + test['Parch']\n",
        "test['alone'] = test['family_size'].apply(lambda x : 1 if x==0 else 0)"
      ],
      "execution_count": 0,
      "outputs": []
    },
    {
      "cell_type": "code",
      "metadata": {
        "id": "fm9IjdAhz2rr",
        "colab_type": "code",
        "colab": {}
      },
      "source": [
        "cols_to_category = ['fare_category', 'age_category', 'cabin_category', 'Sex', 'title', 'Embarked']"
      ],
      "execution_count": 0,
      "outputs": []
    },
    {
      "cell_type": "code",
      "metadata": {
        "id": "lxn2gDlG0qfp",
        "colab_type": "code",
        "colab": {}
      },
      "source": [
        "def convert_to_category(df, col):\n",
        "    dummy_df = pd.get_dummies(df[col], prefix=col)\n",
        "    df = pd.concat([df, dummy_df], axis=1)\n",
        "    df = df.drop(col, axis=1)\n",
        "    return df"
      ],
      "execution_count": 0,
      "outputs": []
    },
    {
      "cell_type": "code",
      "metadata": {
        "id": "YyiGw8kg1QBk",
        "colab_type": "code",
        "colab": {}
      },
      "source": [
        "for col in cols_to_category:\n",
        "    train = convert_to_category(train, col)\n",
        "    test = convert_to_category(test, col)"
      ],
      "execution_count": 0,
      "outputs": []
    },
    {
      "cell_type": "code",
      "metadata": {
        "id": "42wWO7lr1Xrd",
        "colab_type": "code",
        "outputId": "f4ee444a-b24f-4a7e-b308-ff7e4ed1315c",
        "colab": {
          "base_uri": "https://localhost:8080/",
          "height": 232
        }
      },
      "source": [
        "train.head()"
      ],
      "execution_count": 48,
      "outputs": [
        {
          "output_type": "execute_result",
          "data": {
            "text/html": [
              "<div>\n",
              "<style scoped>\n",
              "    .dataframe tbody tr th:only-of-type {\n",
              "        vertical-align: middle;\n",
              "    }\n",
              "\n",
              "    .dataframe tbody tr th {\n",
              "        vertical-align: top;\n",
              "    }\n",
              "\n",
              "    .dataframe thead th {\n",
              "        text-align: right;\n",
              "    }\n",
              "</style>\n",
              "<table border=\"1\" class=\"dataframe\">\n",
              "  <thead>\n",
              "    <tr style=\"text-align: right;\">\n",
              "      <th></th>\n",
              "      <th>PassengerId</th>\n",
              "      <th>Survived</th>\n",
              "      <th>Pclass</th>\n",
              "      <th>SibSp</th>\n",
              "      <th>Parch</th>\n",
              "      <th>family_size</th>\n",
              "      <th>alone</th>\n",
              "      <th>fare_category_0-10</th>\n",
              "      <th>fare_category_10-50</th>\n",
              "      <th>fare_category_50-100</th>\n",
              "      <th>fare_category_100+</th>\n",
              "      <th>age_category_Missing</th>\n",
              "      <th>age_category_Infant</th>\n",
              "      <th>age_category_Child</th>\n",
              "      <th>age_category_Teenager</th>\n",
              "      <th>age_category_Young Adult</th>\n",
              "      <th>age_category_Adult</th>\n",
              "      <th>age_category_Senior</th>\n",
              "      <th>cabin_category_A</th>\n",
              "      <th>cabin_category_B</th>\n",
              "      <th>cabin_category_C</th>\n",
              "      <th>cabin_category_D</th>\n",
              "      <th>cabin_category_E</th>\n",
              "      <th>cabin_category_F</th>\n",
              "      <th>cabin_category_G</th>\n",
              "      <th>cabin_category_T</th>\n",
              "      <th>cabin_category_Unknown</th>\n",
              "      <th>Sex_female</th>\n",
              "      <th>Sex_male</th>\n",
              "      <th>title_Master</th>\n",
              "      <th>title_Miss</th>\n",
              "      <th>title_Mr</th>\n",
              "      <th>title_Mrs</th>\n",
              "      <th>title_Officer</th>\n",
              "      <th>title_Royalty</th>\n",
              "      <th>Embarked_C</th>\n",
              "      <th>Embarked_Q</th>\n",
              "      <th>Embarked_S</th>\n",
              "    </tr>\n",
              "  </thead>\n",
              "  <tbody>\n",
              "    <tr>\n",
              "      <th>0</th>\n",
              "      <td>1</td>\n",
              "      <td>0</td>\n",
              "      <td>3</td>\n",
              "      <td>1</td>\n",
              "      <td>0</td>\n",
              "      <td>1</td>\n",
              "      <td>0</td>\n",
              "      <td>1</td>\n",
              "      <td>0</td>\n",
              "      <td>0</td>\n",
              "      <td>0</td>\n",
              "      <td>0</td>\n",
              "      <td>0</td>\n",
              "      <td>0</td>\n",
              "      <td>0</td>\n",
              "      <td>1</td>\n",
              "      <td>0</td>\n",
              "      <td>0</td>\n",
              "      <td>0</td>\n",
              "      <td>0</td>\n",
              "      <td>0</td>\n",
              "      <td>0</td>\n",
              "      <td>0</td>\n",
              "      <td>0</td>\n",
              "      <td>0</td>\n",
              "      <td>0</td>\n",
              "      <td>1</td>\n",
              "      <td>0</td>\n",
              "      <td>1</td>\n",
              "      <td>0</td>\n",
              "      <td>0</td>\n",
              "      <td>1</td>\n",
              "      <td>0</td>\n",
              "      <td>0</td>\n",
              "      <td>0</td>\n",
              "      <td>0</td>\n",
              "      <td>0</td>\n",
              "      <td>1</td>\n",
              "    </tr>\n",
              "    <tr>\n",
              "      <th>1</th>\n",
              "      <td>2</td>\n",
              "      <td>1</td>\n",
              "      <td>1</td>\n",
              "      <td>1</td>\n",
              "      <td>0</td>\n",
              "      <td>1</td>\n",
              "      <td>0</td>\n",
              "      <td>0</td>\n",
              "      <td>0</td>\n",
              "      <td>1</td>\n",
              "      <td>0</td>\n",
              "      <td>0</td>\n",
              "      <td>0</td>\n",
              "      <td>0</td>\n",
              "      <td>0</td>\n",
              "      <td>0</td>\n",
              "      <td>1</td>\n",
              "      <td>0</td>\n",
              "      <td>0</td>\n",
              "      <td>0</td>\n",
              "      <td>1</td>\n",
              "      <td>0</td>\n",
              "      <td>0</td>\n",
              "      <td>0</td>\n",
              "      <td>0</td>\n",
              "      <td>0</td>\n",
              "      <td>0</td>\n",
              "      <td>1</td>\n",
              "      <td>0</td>\n",
              "      <td>0</td>\n",
              "      <td>0</td>\n",
              "      <td>0</td>\n",
              "      <td>1</td>\n",
              "      <td>0</td>\n",
              "      <td>0</td>\n",
              "      <td>1</td>\n",
              "      <td>0</td>\n",
              "      <td>0</td>\n",
              "    </tr>\n",
              "    <tr>\n",
              "      <th>2</th>\n",
              "      <td>3</td>\n",
              "      <td>1</td>\n",
              "      <td>3</td>\n",
              "      <td>0</td>\n",
              "      <td>0</td>\n",
              "      <td>0</td>\n",
              "      <td>1</td>\n",
              "      <td>1</td>\n",
              "      <td>0</td>\n",
              "      <td>0</td>\n",
              "      <td>0</td>\n",
              "      <td>0</td>\n",
              "      <td>0</td>\n",
              "      <td>0</td>\n",
              "      <td>0</td>\n",
              "      <td>1</td>\n",
              "      <td>0</td>\n",
              "      <td>0</td>\n",
              "      <td>0</td>\n",
              "      <td>0</td>\n",
              "      <td>0</td>\n",
              "      <td>0</td>\n",
              "      <td>0</td>\n",
              "      <td>0</td>\n",
              "      <td>0</td>\n",
              "      <td>0</td>\n",
              "      <td>1</td>\n",
              "      <td>1</td>\n",
              "      <td>0</td>\n",
              "      <td>0</td>\n",
              "      <td>1</td>\n",
              "      <td>0</td>\n",
              "      <td>0</td>\n",
              "      <td>0</td>\n",
              "      <td>0</td>\n",
              "      <td>0</td>\n",
              "      <td>0</td>\n",
              "      <td>1</td>\n",
              "    </tr>\n",
              "    <tr>\n",
              "      <th>3</th>\n",
              "      <td>4</td>\n",
              "      <td>1</td>\n",
              "      <td>1</td>\n",
              "      <td>1</td>\n",
              "      <td>0</td>\n",
              "      <td>1</td>\n",
              "      <td>0</td>\n",
              "      <td>0</td>\n",
              "      <td>0</td>\n",
              "      <td>1</td>\n",
              "      <td>0</td>\n",
              "      <td>0</td>\n",
              "      <td>0</td>\n",
              "      <td>0</td>\n",
              "      <td>0</td>\n",
              "      <td>1</td>\n",
              "      <td>0</td>\n",
              "      <td>0</td>\n",
              "      <td>0</td>\n",
              "      <td>0</td>\n",
              "      <td>1</td>\n",
              "      <td>0</td>\n",
              "      <td>0</td>\n",
              "      <td>0</td>\n",
              "      <td>0</td>\n",
              "      <td>0</td>\n",
              "      <td>0</td>\n",
              "      <td>1</td>\n",
              "      <td>0</td>\n",
              "      <td>0</td>\n",
              "      <td>0</td>\n",
              "      <td>0</td>\n",
              "      <td>1</td>\n",
              "      <td>0</td>\n",
              "      <td>0</td>\n",
              "      <td>0</td>\n",
              "      <td>0</td>\n",
              "      <td>1</td>\n",
              "    </tr>\n",
              "    <tr>\n",
              "      <th>4</th>\n",
              "      <td>5</td>\n",
              "      <td>0</td>\n",
              "      <td>3</td>\n",
              "      <td>0</td>\n",
              "      <td>0</td>\n",
              "      <td>0</td>\n",
              "      <td>1</td>\n",
              "      <td>1</td>\n",
              "      <td>0</td>\n",
              "      <td>0</td>\n",
              "      <td>0</td>\n",
              "      <td>0</td>\n",
              "      <td>0</td>\n",
              "      <td>0</td>\n",
              "      <td>0</td>\n",
              "      <td>1</td>\n",
              "      <td>0</td>\n",
              "      <td>0</td>\n",
              "      <td>0</td>\n",
              "      <td>0</td>\n",
              "      <td>0</td>\n",
              "      <td>0</td>\n",
              "      <td>0</td>\n",
              "      <td>0</td>\n",
              "      <td>0</td>\n",
              "      <td>0</td>\n",
              "      <td>1</td>\n",
              "      <td>0</td>\n",
              "      <td>1</td>\n",
              "      <td>0</td>\n",
              "      <td>0</td>\n",
              "      <td>1</td>\n",
              "      <td>0</td>\n",
              "      <td>0</td>\n",
              "      <td>0</td>\n",
              "      <td>0</td>\n",
              "      <td>0</td>\n",
              "      <td>1</td>\n",
              "    </tr>\n",
              "  </tbody>\n",
              "</table>\n",
              "</div>"
            ],
            "text/plain": [
              "   PassengerId  Survived  Pclass  ...  Embarked_C  Embarked_Q  Embarked_S\n",
              "0            1         0       3  ...           0           0           1\n",
              "1            2         1       1  ...           1           0           0\n",
              "2            3         1       3  ...           0           0           1\n",
              "3            4         1       1  ...           0           0           1\n",
              "4            5         0       3  ...           0           0           1\n",
              "\n",
              "[5 rows x 38 columns]"
            ]
          },
          "metadata": {
            "tags": []
          },
          "execution_count": 48
        }
      ]
    },
    {
      "cell_type": "markdown",
      "metadata": {
        "id": "fVxQQYtV2Nr4",
        "colab_type": "text"
      },
      "source": [
        "We can drop the **Sex_male** column since the data is duplicated in **Sex_female**."
      ]
    },
    {
      "cell_type": "code",
      "metadata": {
        "id": "jpjPc9s-1vS0",
        "colab_type": "code",
        "colab": {}
      },
      "source": [
        "train = train.drop(['Sex_male', 'SibSp', 'Parch', 'family_size'], axis=1)\n",
        "test = test.drop(['Sex_male', 'SibSp', 'Parch', 'family_size'], axis=1)"
      ],
      "execution_count": 0,
      "outputs": []
    },
    {
      "cell_type": "code",
      "metadata": {
        "id": "xV9QF-6b2mEE",
        "colab_type": "code",
        "outputId": "71ef615e-4ce3-405e-f427-0f8d68168565",
        "colab": {
          "base_uri": "https://localhost:8080/",
          "height": 672
        }
      },
      "source": [
        "train.info()"
      ],
      "execution_count": 50,
      "outputs": [
        {
          "output_type": "stream",
          "text": [
            "<class 'pandas.core.frame.DataFrame'>\n",
            "RangeIndex: 891 entries, 0 to 890\n",
            "Data columns (total 34 columns):\n",
            "PassengerId                 891 non-null int64\n",
            "Survived                    891 non-null int64\n",
            "Pclass                      891 non-null int64\n",
            "alone                       891 non-null int64\n",
            "fare_category_0-10          891 non-null uint8\n",
            "fare_category_10-50         891 non-null uint8\n",
            "fare_category_50-100        891 non-null uint8\n",
            "fare_category_100+          891 non-null uint8\n",
            "age_category_Missing        891 non-null uint8\n",
            "age_category_Infant         891 non-null uint8\n",
            "age_category_Child          891 non-null uint8\n",
            "age_category_Teenager       891 non-null uint8\n",
            "age_category_Young Adult    891 non-null uint8\n",
            "age_category_Adult          891 non-null uint8\n",
            "age_category_Senior         891 non-null uint8\n",
            "cabin_category_A            891 non-null uint8\n",
            "cabin_category_B            891 non-null uint8\n",
            "cabin_category_C            891 non-null uint8\n",
            "cabin_category_D            891 non-null uint8\n",
            "cabin_category_E            891 non-null uint8\n",
            "cabin_category_F            891 non-null uint8\n",
            "cabin_category_G            891 non-null uint8\n",
            "cabin_category_T            891 non-null uint8\n",
            "cabin_category_Unknown      891 non-null uint8\n",
            "Sex_female                  891 non-null uint8\n",
            "title_Master                891 non-null uint8\n",
            "title_Miss                  891 non-null uint8\n",
            "title_Mr                    891 non-null uint8\n",
            "title_Mrs                   891 non-null uint8\n",
            "title_Officer               891 non-null uint8\n",
            "title_Royalty               891 non-null uint8\n",
            "Embarked_C                  891 non-null uint8\n",
            "Embarked_Q                  891 non-null uint8\n",
            "Embarked_S                  891 non-null uint8\n",
            "dtypes: int64(4), uint8(30)\n",
            "memory usage: 54.0 KB\n"
          ],
          "name": "stdout"
        }
      ]
    },
    {
      "cell_type": "markdown",
      "metadata": {
        "id": "NWFjEGLK3jpK",
        "colab_type": "text"
      },
      "source": [
        "### Feature selection"
      ]
    },
    {
      "cell_type": "code",
      "metadata": {
        "id": "rtyrOwxF3Me0",
        "colab_type": "code",
        "colab": {}
      },
      "source": [
        "from sklearn.feature_selection import RFECV\n",
        "from sklearn.ensemble import RandomForestClassifier"
      ],
      "execution_count": 0,
      "outputs": []
    },
    {
      "cell_type": "code",
      "metadata": {
        "id": "kG53U61PQQC3",
        "colab_type": "code",
        "outputId": "27bfa196-6f6c-4bf8-c8ad-5f57df01805d",
        "colab": {
          "base_uri": "https://localhost:8080/",
          "height": 202
        }
      },
      "source": [
        "columns = train.columns\n",
        "columns"
      ],
      "execution_count": 52,
      "outputs": [
        {
          "output_type": "execute_result",
          "data": {
            "text/plain": [
              "Index(['PassengerId', 'Survived', 'Pclass', 'alone', 'fare_category_0-10',\n",
              "       'fare_category_10-50', 'fare_category_50-100', 'fare_category_100+',\n",
              "       'age_category_Missing', 'age_category_Infant', 'age_category_Child',\n",
              "       'age_category_Teenager', 'age_category_Young Adult',\n",
              "       'age_category_Adult', 'age_category_Senior', 'cabin_category_A',\n",
              "       'cabin_category_B', 'cabin_category_C', 'cabin_category_D',\n",
              "       'cabin_category_E', 'cabin_category_F', 'cabin_category_G',\n",
              "       'cabin_category_T', 'cabin_category_Unknown', 'Sex_female',\n",
              "       'title_Master', 'title_Miss', 'title_Mr', 'title_Mrs', 'title_Officer',\n",
              "       'title_Royalty', 'Embarked_C', 'Embarked_Q', 'Embarked_S'],\n",
              "      dtype='object')"
            ]
          },
          "metadata": {
            "tags": []
          },
          "execution_count": 52
        }
      ]
    },
    {
      "cell_type": "code",
      "metadata": {
        "id": "qUEmZeA1QubS",
        "colab_type": "code",
        "colab": {}
      },
      "source": [
        "cols = columns[2:]"
      ],
      "execution_count": 0,
      "outputs": []
    },
    {
      "cell_type": "code",
      "metadata": {
        "id": "Jb7KgYJMQ0fM",
        "colab_type": "code",
        "colab": {}
      },
      "source": [
        "target = columns[1]"
      ],
      "execution_count": 0,
      "outputs": []
    },
    {
      "cell_type": "code",
      "metadata": {
        "id": "0eiGox7bT3C-",
        "colab_type": "code",
        "colab": {}
      },
      "source": [
        "import warnings\n",
        "warnings.filterwarnings('ignore')"
      ],
      "execution_count": 0,
      "outputs": []
    },
    {
      "cell_type": "code",
      "metadata": {
        "id": "569GB7nDRLT_",
        "colab_type": "code",
        "outputId": "48185598-ac33-4e6d-943a-ebf378e4c77d",
        "colab": {
          "base_uri": "https://localhost:8080/",
          "height": 218
        }
      },
      "source": [
        "rfc = RandomForestClassifier(random_state=1)\n",
        "selector = RFECV(rfc, cv=10)\n",
        "selector.fit(train[cols], train[target])"
      ],
      "execution_count": 56,
      "outputs": [
        {
          "output_type": "execute_result",
          "data": {
            "text/plain": [
              "RFECV(cv=10,\n",
              "      estimator=RandomForestClassifier(bootstrap=True, class_weight=None,\n",
              "                                       criterion='gini', max_depth=None,\n",
              "                                       max_features='auto', max_leaf_nodes=None,\n",
              "                                       min_impurity_decrease=0.0,\n",
              "                                       min_impurity_split=None,\n",
              "                                       min_samples_leaf=1, min_samples_split=2,\n",
              "                                       min_weight_fraction_leaf=0.0,\n",
              "                                       n_estimators='warn', n_jobs=None,\n",
              "                                       oob_score=False, random_state=1,\n",
              "                                       verbose=0, warm_start=False),\n",
              "      min_features_to_select=1, n_jobs=None, scoring=None, step=1, verbose=0)"
            ]
          },
          "metadata": {
            "tags": []
          },
          "execution_count": 56
        }
      ]
    },
    {
      "cell_type": "code",
      "metadata": {
        "id": "E1zXZVm7Rm9B",
        "colab_type": "code",
        "colab": {}
      },
      "source": [
        "best_features = selector.support_\n",
        "features = cols[best_features]"
      ],
      "execution_count": 0,
      "outputs": []
    },
    {
      "cell_type": "markdown",
      "metadata": {
        "id": "RRfNSeOGUCNU",
        "colab_type": "text"
      },
      "source": [
        "### Model Selection"
      ]
    },
    {
      "cell_type": "code",
      "metadata": {
        "id": "j1TKlyToTXMm",
        "colab_type": "code",
        "colab": {}
      },
      "source": [
        "from sklearn.linear_model import LogisticRegression\n",
        "from sklearn.neighbors import KNeighborsClassifier\n",
        "from sklearn.model_selection import GridSearchCV"
      ],
      "execution_count": 0,
      "outputs": []
    },
    {
      "cell_type": "code",
      "metadata": {
        "id": "1KI8RqnkUwzo",
        "colab_type": "code",
        "colab": {}
      },
      "source": [
        "models = [\n",
        "    {\n",
        "        'name': 'LogisticRegression',\n",
        "        'estimator': LogisticRegression(),\n",
        "        'hyperparameters': {\n",
        "        'solver': ['newton-cg', 'lbfgs', 'liblinear', 'sag', 'saga']\n",
        "        }\n",
        "    },\n",
        "    {\n",
        "        'name': 'KNeighborsClassifier',\n",
        "        'estimator': KNeighborsClassifier(),\n",
        "        'hyperparameters': {\n",
        "            'n_neighbors': range(1, 20),\n",
        "            'weights': ['distance', 'uniform'],\n",
        "            'algorithm': ['ball_tree', 'kd_tree', 'brute'],\n",
        "            'p': [1,2]                        \n",
        "        }\n",
        "    },\n",
        "    {\n",
        "        'name': 'RandomForestClassifier',\n",
        "        'estimator': RandomForestClassifier(),\n",
        "        'hyperparameters': {\n",
        "            'criterion': ['gini', 'entropy'],\n",
        "            'max_depth': [2, 5, 10],\n",
        "            'max_features': [\"log2\", \"sqrt\"],\n",
        "            'min_samples_leaf': [1, 5, 8],\n",
        "            'min_samples_split': [2, 3, 5]\n",
        "        }\n",
        "    }\n",
        "]"
      ],
      "execution_count": 0,
      "outputs": []
    },
    {
      "cell_type": "code",
      "metadata": {
        "id": "c4MhmPjIcSrC",
        "colab_type": "code",
        "outputId": "54f854ea-e503-4cd4-db69-ce9f096aa532",
        "colab": {
          "base_uri": "https://localhost:8080/",
          "height": 188
        }
      },
      "source": [
        "for model in models:\n",
        "    grid = GridSearchCV(model['estimator'], param_grid=model['hyperparameters'], cv=10)\n",
        "    grid.fit(train[features], train[target])\n",
        "    model['best_params'] = grid.best_params_\n",
        "    model['best_score'] = grid.best_score_\n",
        "    model['best_model'] = grid.best_estimator_\n",
        "    print(model['name'])\n",
        "    print(model['best_score'])\n",
        "    print(model['best_params'])\n",
        "    "
      ],
      "execution_count": 60,
      "outputs": [
        {
          "output_type": "stream",
          "text": [
            "LogisticRegression\n",
            "0.8103254769921436\n",
            "{'solver': 'newton-cg'}\n",
            "KNeighborsClassifier\n",
            "0.8282828282828283\n",
            "{'algorithm': 'ball_tree', 'n_neighbors': 9, 'p': 2, 'weights': 'distance'}\n",
            "RandomForestClassifier\n",
            "0.8226711560044894\n",
            "{'criterion': 'gini', 'max_depth': 10, 'max_features': 'sqrt', 'min_samples_leaf': 1, 'min_samples_split': 2}\n"
          ],
          "name": "stdout"
        }
      ]
    },
    {
      "cell_type": "markdown",
      "metadata": {
        "id": "jSUJiEAafiu1",
        "colab_type": "text"
      },
      "source": [
        "## Submission to Kaggle"
      ]
    },
    {
      "cell_type": "code",
      "metadata": {
        "id": "Sajob74adogh",
        "colab_type": "code",
        "colab": {}
      },
      "source": [
        "predictions = models[2]['best_model'].predict(test[features])"
      ],
      "execution_count": 0,
      "outputs": []
    },
    {
      "cell_type": "code",
      "metadata": {
        "id": "ezJXtiGEhCGu",
        "colab_type": "code",
        "outputId": "2371de35-4cd8-4136-ca5c-d3af023d4317",
        "colab": {
          "base_uri": "https://localhost:8080/",
          "height": 195
        }
      },
      "source": [
        "submission = pd.DataFrame({\n",
        "    'PassengerId': test['PassengerId'],\n",
        "    'Survived': predictions\n",
        "})\n",
        "submission.head()"
      ],
      "execution_count": 62,
      "outputs": [
        {
          "output_type": "execute_result",
          "data": {
            "text/html": [
              "<div>\n",
              "<style scoped>\n",
              "    .dataframe tbody tr th:only-of-type {\n",
              "        vertical-align: middle;\n",
              "    }\n",
              "\n",
              "    .dataframe tbody tr th {\n",
              "        vertical-align: top;\n",
              "    }\n",
              "\n",
              "    .dataframe thead th {\n",
              "        text-align: right;\n",
              "    }\n",
              "</style>\n",
              "<table border=\"1\" class=\"dataframe\">\n",
              "  <thead>\n",
              "    <tr style=\"text-align: right;\">\n",
              "      <th></th>\n",
              "      <th>PassengerId</th>\n",
              "      <th>Survived</th>\n",
              "    </tr>\n",
              "  </thead>\n",
              "  <tbody>\n",
              "    <tr>\n",
              "      <th>0</th>\n",
              "      <td>892</td>\n",
              "      <td>0</td>\n",
              "    </tr>\n",
              "    <tr>\n",
              "      <th>1</th>\n",
              "      <td>893</td>\n",
              "      <td>0</td>\n",
              "    </tr>\n",
              "    <tr>\n",
              "      <th>2</th>\n",
              "      <td>894</td>\n",
              "      <td>0</td>\n",
              "    </tr>\n",
              "    <tr>\n",
              "      <th>3</th>\n",
              "      <td>895</td>\n",
              "      <td>0</td>\n",
              "    </tr>\n",
              "    <tr>\n",
              "      <th>4</th>\n",
              "      <td>896</td>\n",
              "      <td>1</td>\n",
              "    </tr>\n",
              "  </tbody>\n",
              "</table>\n",
              "</div>"
            ],
            "text/plain": [
              "   PassengerId  Survived\n",
              "0          892         0\n",
              "1          893         0\n",
              "2          894         0\n",
              "3          895         0\n",
              "4          896         1"
            ]
          },
          "metadata": {
            "tags": []
          },
          "execution_count": 62
        }
      ]
    }
  ]
}