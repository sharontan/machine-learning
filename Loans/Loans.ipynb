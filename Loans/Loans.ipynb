{
  "nbformat": 4,
  "nbformat_minor": 0,
  "metadata": {
    "colab": {
      "name": "Loans.ipynb",
      "version": "0.3.2",
      "provenance": []
    },
    "kernelspec": {
      "name": "python3",
      "display_name": "Python 3"
    }
  },
  "cells": [
    {
      "cell_type": "markdown",
      "metadata": {
        "id": "wKS-6qHoQTZr",
        "colab_type": "text"
      },
      "source": [
        "# Lending Club\n",
        "We will be working with financial lending data from Lending Club. Lending Club is a marketplace for personal loans that matches borrowers who are seeking a loan with investors looking to lend money and make a return.\n",
        "\n",
        "Most investors use a portfolio strategy to invest small amounts in many loans, with healthy mixes of low, medium, and high interest loans. We will focus on the mindset of a conservative investor who only wants to invest in loans that have a good chance of being paid off on time.\n",
        "\n",
        "We will build machine learning models that can predict if a borrower will pay off their loan on time, and select one that suits the needs of the conservative investor.\n",
        "\n",
        "To minimize initial loading, the following columns have been removed from the [source](https://www.lendingclub.com/info/download-data.action) file:\n",
        "\n",
        "- **desc**: which contains a long text explanation for each loan; and\n",
        "- **url**: which contains a link to each loan on Lending Club which can only be accessed with an investor account."
      ]
    },
    {
      "cell_type": "code",
      "metadata": {
        "id": "FLFMO4nNKUMh",
        "colab_type": "code",
        "colab": {}
      },
      "source": [
        "import pandas as pd"
      ],
      "execution_count": 0,
      "outputs": []
    },
    {
      "cell_type": "code",
      "metadata": {
        "id": "9tjnCwM8KYJR",
        "colab_type": "code",
        "outputId": "814acd4d-4592-424d-c069-e9c75dea224e",
        "colab": {
          "base_uri": "https://localhost:8080/",
          "height": 394
        }
      },
      "source": [
        "data = pd.read_csv('https://raw.githubusercontent.com/sharontan/machine-learning/master/Loans/LoanStats3a.csv',  low_memory=False)\n",
        "data.head()"
      ],
      "execution_count": 2,
      "outputs": [
        {
          "output_type": "execute_result",
          "data": {
            "text/html": [
              "<div>\n",
              "<style scoped>\n",
              "    .dataframe tbody tr th:only-of-type {\n",
              "        vertical-align: middle;\n",
              "    }\n",
              "\n",
              "    .dataframe tbody tr th {\n",
              "        vertical-align: top;\n",
              "    }\n",
              "\n",
              "    .dataframe thead th {\n",
              "        text-align: right;\n",
              "    }\n",
              "</style>\n",
              "<table border=\"1\" class=\"dataframe\">\n",
              "  <thead>\n",
              "    <tr style=\"text-align: right;\">\n",
              "      <th></th>\n",
              "      <th>id</th>\n",
              "      <th>member_id</th>\n",
              "      <th>loan_amnt</th>\n",
              "      <th>funded_amnt</th>\n",
              "      <th>funded_amnt_inv</th>\n",
              "      <th>term</th>\n",
              "      <th>int_rate</th>\n",
              "      <th>installment</th>\n",
              "      <th>grade</th>\n",
              "      <th>sub_grade</th>\n",
              "      <th>emp_title</th>\n",
              "      <th>emp_length</th>\n",
              "      <th>home_ownership</th>\n",
              "      <th>annual_inc</th>\n",
              "      <th>verification_status</th>\n",
              "      <th>issue_d</th>\n",
              "      <th>loan_status</th>\n",
              "      <th>pymnt_plan</th>\n",
              "      <th>purpose</th>\n",
              "      <th>title</th>\n",
              "      <th>zip_code</th>\n",
              "      <th>addr_state</th>\n",
              "      <th>dti</th>\n",
              "      <th>delinq_2yrs</th>\n",
              "      <th>earliest_cr_line</th>\n",
              "      <th>inq_last_6mths</th>\n",
              "      <th>mths_since_last_delinq</th>\n",
              "      <th>mths_since_last_record</th>\n",
              "      <th>open_acc</th>\n",
              "      <th>pub_rec</th>\n",
              "      <th>revol_bal</th>\n",
              "      <th>revol_util</th>\n",
              "      <th>total_acc</th>\n",
              "      <th>initial_list_status</th>\n",
              "      <th>out_prncp</th>\n",
              "      <th>out_prncp_inv</th>\n",
              "      <th>total_pymnt</th>\n",
              "      <th>total_pymnt_inv</th>\n",
              "      <th>total_rec_prncp</th>\n",
              "      <th>total_rec_int</th>\n",
              "      <th>...</th>\n",
              "      <th>percent_bc_gt_75</th>\n",
              "      <th>pub_rec_bankruptcies</th>\n",
              "      <th>tax_liens</th>\n",
              "      <th>tot_hi_cred_lim</th>\n",
              "      <th>total_bal_ex_mort</th>\n",
              "      <th>total_bc_limit</th>\n",
              "      <th>total_il_high_credit_limit</th>\n",
              "      <th>revol_bal_joint</th>\n",
              "      <th>sec_app_earliest_cr_line</th>\n",
              "      <th>sec_app_inq_last_6mths</th>\n",
              "      <th>sec_app_mort_acc</th>\n",
              "      <th>sec_app_open_acc</th>\n",
              "      <th>sec_app_revol_util</th>\n",
              "      <th>sec_app_open_act_il</th>\n",
              "      <th>sec_app_num_rev_accts</th>\n",
              "      <th>sec_app_chargeoff_within_12_mths</th>\n",
              "      <th>sec_app_collections_12_mths_ex_med</th>\n",
              "      <th>sec_app_mths_since_last_major_derog</th>\n",
              "      <th>hardship_flag</th>\n",
              "      <th>hardship_type</th>\n",
              "      <th>hardship_reason</th>\n",
              "      <th>hardship_status</th>\n",
              "      <th>deferral_term</th>\n",
              "      <th>hardship_amount</th>\n",
              "      <th>hardship_start_date</th>\n",
              "      <th>hardship_end_date</th>\n",
              "      <th>payment_plan_start_date</th>\n",
              "      <th>hardship_length</th>\n",
              "      <th>hardship_dpd</th>\n",
              "      <th>hardship_loan_status</th>\n",
              "      <th>orig_projected_additional_accrued_interest</th>\n",
              "      <th>hardship_payoff_balance_amount</th>\n",
              "      <th>hardship_last_payment_amount</th>\n",
              "      <th>debt_settlement_flag</th>\n",
              "      <th>debt_settlement_flag_date</th>\n",
              "      <th>settlement_status</th>\n",
              "      <th>settlement_date</th>\n",
              "      <th>settlement_amount</th>\n",
              "      <th>settlement_percentage</th>\n",
              "      <th>settlement_term</th>\n",
              "    </tr>\n",
              "  </thead>\n",
              "  <tbody>\n",
              "    <tr>\n",
              "      <th>0</th>\n",
              "      <td>NaN</td>\n",
              "      <td>NaN</td>\n",
              "      <td>5000.0</td>\n",
              "      <td>5000.0</td>\n",
              "      <td>4975.0</td>\n",
              "      <td>36 months</td>\n",
              "      <td>10.65%</td>\n",
              "      <td>162.87</td>\n",
              "      <td>B</td>\n",
              "      <td>B2</td>\n",
              "      <td>NaN</td>\n",
              "      <td>10+ years</td>\n",
              "      <td>RENT</td>\n",
              "      <td>24000.0</td>\n",
              "      <td>Verified</td>\n",
              "      <td>Dec-11</td>\n",
              "      <td>Fully Paid</td>\n",
              "      <td>n</td>\n",
              "      <td>credit_card</td>\n",
              "      <td>Computer</td>\n",
              "      <td>860xx</td>\n",
              "      <td>AZ</td>\n",
              "      <td>27.65</td>\n",
              "      <td>0.0</td>\n",
              "      <td>Jan-85</td>\n",
              "      <td>1.0</td>\n",
              "      <td>NaN</td>\n",
              "      <td>NaN</td>\n",
              "      <td>3.0</td>\n",
              "      <td>0.0</td>\n",
              "      <td>13648.0</td>\n",
              "      <td>83.70%</td>\n",
              "      <td>9.0</td>\n",
              "      <td>f</td>\n",
              "      <td>0.0</td>\n",
              "      <td>0.0</td>\n",
              "      <td>5863.155187</td>\n",
              "      <td>5833.84</td>\n",
              "      <td>5000.00</td>\n",
              "      <td>863.16</td>\n",
              "      <td>...</td>\n",
              "      <td>NaN</td>\n",
              "      <td>0.0</td>\n",
              "      <td>0.0</td>\n",
              "      <td>NaN</td>\n",
              "      <td>NaN</td>\n",
              "      <td>NaN</td>\n",
              "      <td>NaN</td>\n",
              "      <td>NaN</td>\n",
              "      <td>NaN</td>\n",
              "      <td>NaN</td>\n",
              "      <td>NaN</td>\n",
              "      <td>NaN</td>\n",
              "      <td>NaN</td>\n",
              "      <td>NaN</td>\n",
              "      <td>NaN</td>\n",
              "      <td>NaN</td>\n",
              "      <td>NaN</td>\n",
              "      <td>NaN</td>\n",
              "      <td>N</td>\n",
              "      <td>NaN</td>\n",
              "      <td>NaN</td>\n",
              "      <td>NaN</td>\n",
              "      <td>NaN</td>\n",
              "      <td>NaN</td>\n",
              "      <td>NaN</td>\n",
              "      <td>NaN</td>\n",
              "      <td>NaN</td>\n",
              "      <td>NaN</td>\n",
              "      <td>NaN</td>\n",
              "      <td>NaN</td>\n",
              "      <td>NaN</td>\n",
              "      <td>NaN</td>\n",
              "      <td>NaN</td>\n",
              "      <td>N</td>\n",
              "      <td>NaN</td>\n",
              "      <td>NaN</td>\n",
              "      <td>NaN</td>\n",
              "      <td>NaN</td>\n",
              "      <td>NaN</td>\n",
              "      <td>NaN</td>\n",
              "    </tr>\n",
              "    <tr>\n",
              "      <th>1</th>\n",
              "      <td>NaN</td>\n",
              "      <td>NaN</td>\n",
              "      <td>2500.0</td>\n",
              "      <td>2500.0</td>\n",
              "      <td>2500.0</td>\n",
              "      <td>60 months</td>\n",
              "      <td>15.27%</td>\n",
              "      <td>59.83</td>\n",
              "      <td>C</td>\n",
              "      <td>C4</td>\n",
              "      <td>Ryder</td>\n",
              "      <td>&lt; 1 year</td>\n",
              "      <td>RENT</td>\n",
              "      <td>30000.0</td>\n",
              "      <td>Source Verified</td>\n",
              "      <td>Dec-11</td>\n",
              "      <td>Charged Off</td>\n",
              "      <td>n</td>\n",
              "      <td>car</td>\n",
              "      <td>bike</td>\n",
              "      <td>309xx</td>\n",
              "      <td>GA</td>\n",
              "      <td>1.00</td>\n",
              "      <td>0.0</td>\n",
              "      <td>Apr-99</td>\n",
              "      <td>5.0</td>\n",
              "      <td>NaN</td>\n",
              "      <td>NaN</td>\n",
              "      <td>3.0</td>\n",
              "      <td>0.0</td>\n",
              "      <td>1687.0</td>\n",
              "      <td>9.40%</td>\n",
              "      <td>4.0</td>\n",
              "      <td>f</td>\n",
              "      <td>0.0</td>\n",
              "      <td>0.0</td>\n",
              "      <td>1014.530000</td>\n",
              "      <td>1014.53</td>\n",
              "      <td>456.46</td>\n",
              "      <td>435.17</td>\n",
              "      <td>...</td>\n",
              "      <td>NaN</td>\n",
              "      <td>0.0</td>\n",
              "      <td>0.0</td>\n",
              "      <td>NaN</td>\n",
              "      <td>NaN</td>\n",
              "      <td>NaN</td>\n",
              "      <td>NaN</td>\n",
              "      <td>NaN</td>\n",
              "      <td>NaN</td>\n",
              "      <td>NaN</td>\n",
              "      <td>NaN</td>\n",
              "      <td>NaN</td>\n",
              "      <td>NaN</td>\n",
              "      <td>NaN</td>\n",
              "      <td>NaN</td>\n",
              "      <td>NaN</td>\n",
              "      <td>NaN</td>\n",
              "      <td>NaN</td>\n",
              "      <td>N</td>\n",
              "      <td>NaN</td>\n",
              "      <td>NaN</td>\n",
              "      <td>NaN</td>\n",
              "      <td>NaN</td>\n",
              "      <td>NaN</td>\n",
              "      <td>NaN</td>\n",
              "      <td>NaN</td>\n",
              "      <td>NaN</td>\n",
              "      <td>NaN</td>\n",
              "      <td>NaN</td>\n",
              "      <td>NaN</td>\n",
              "      <td>NaN</td>\n",
              "      <td>NaN</td>\n",
              "      <td>NaN</td>\n",
              "      <td>N</td>\n",
              "      <td>NaN</td>\n",
              "      <td>NaN</td>\n",
              "      <td>NaN</td>\n",
              "      <td>NaN</td>\n",
              "      <td>NaN</td>\n",
              "      <td>NaN</td>\n",
              "    </tr>\n",
              "    <tr>\n",
              "      <th>2</th>\n",
              "      <td>NaN</td>\n",
              "      <td>NaN</td>\n",
              "      <td>2400.0</td>\n",
              "      <td>2400.0</td>\n",
              "      <td>2400.0</td>\n",
              "      <td>36 months</td>\n",
              "      <td>15.96%</td>\n",
              "      <td>84.33</td>\n",
              "      <td>C</td>\n",
              "      <td>C5</td>\n",
              "      <td>NaN</td>\n",
              "      <td>10+ years</td>\n",
              "      <td>RENT</td>\n",
              "      <td>12252.0</td>\n",
              "      <td>Not Verified</td>\n",
              "      <td>Dec-11</td>\n",
              "      <td>Fully Paid</td>\n",
              "      <td>n</td>\n",
              "      <td>small_business</td>\n",
              "      <td>real estate business</td>\n",
              "      <td>606xx</td>\n",
              "      <td>IL</td>\n",
              "      <td>8.72</td>\n",
              "      <td>0.0</td>\n",
              "      <td>Nov-01</td>\n",
              "      <td>2.0</td>\n",
              "      <td>NaN</td>\n",
              "      <td>NaN</td>\n",
              "      <td>2.0</td>\n",
              "      <td>0.0</td>\n",
              "      <td>2956.0</td>\n",
              "      <td>98.50%</td>\n",
              "      <td>10.0</td>\n",
              "      <td>f</td>\n",
              "      <td>0.0</td>\n",
              "      <td>0.0</td>\n",
              "      <td>3005.666844</td>\n",
              "      <td>3005.67</td>\n",
              "      <td>2400.00</td>\n",
              "      <td>605.67</td>\n",
              "      <td>...</td>\n",
              "      <td>NaN</td>\n",
              "      <td>0.0</td>\n",
              "      <td>0.0</td>\n",
              "      <td>NaN</td>\n",
              "      <td>NaN</td>\n",
              "      <td>NaN</td>\n",
              "      <td>NaN</td>\n",
              "      <td>NaN</td>\n",
              "      <td>NaN</td>\n",
              "      <td>NaN</td>\n",
              "      <td>NaN</td>\n",
              "      <td>NaN</td>\n",
              "      <td>NaN</td>\n",
              "      <td>NaN</td>\n",
              "      <td>NaN</td>\n",
              "      <td>NaN</td>\n",
              "      <td>NaN</td>\n",
              "      <td>NaN</td>\n",
              "      <td>N</td>\n",
              "      <td>NaN</td>\n",
              "      <td>NaN</td>\n",
              "      <td>NaN</td>\n",
              "      <td>NaN</td>\n",
              "      <td>NaN</td>\n",
              "      <td>NaN</td>\n",
              "      <td>NaN</td>\n",
              "      <td>NaN</td>\n",
              "      <td>NaN</td>\n",
              "      <td>NaN</td>\n",
              "      <td>NaN</td>\n",
              "      <td>NaN</td>\n",
              "      <td>NaN</td>\n",
              "      <td>NaN</td>\n",
              "      <td>N</td>\n",
              "      <td>NaN</td>\n",
              "      <td>NaN</td>\n",
              "      <td>NaN</td>\n",
              "      <td>NaN</td>\n",
              "      <td>NaN</td>\n",
              "      <td>NaN</td>\n",
              "    </tr>\n",
              "    <tr>\n",
              "      <th>3</th>\n",
              "      <td>NaN</td>\n",
              "      <td>NaN</td>\n",
              "      <td>10000.0</td>\n",
              "      <td>10000.0</td>\n",
              "      <td>10000.0</td>\n",
              "      <td>36 months</td>\n",
              "      <td>13.49%</td>\n",
              "      <td>339.31</td>\n",
              "      <td>C</td>\n",
              "      <td>C1</td>\n",
              "      <td>AIR RESOURCES BOARD</td>\n",
              "      <td>10+ years</td>\n",
              "      <td>RENT</td>\n",
              "      <td>49200.0</td>\n",
              "      <td>Source Verified</td>\n",
              "      <td>Dec-11</td>\n",
              "      <td>Fully Paid</td>\n",
              "      <td>n</td>\n",
              "      <td>other</td>\n",
              "      <td>personel</td>\n",
              "      <td>917xx</td>\n",
              "      <td>CA</td>\n",
              "      <td>20.00</td>\n",
              "      <td>0.0</td>\n",
              "      <td>Feb-96</td>\n",
              "      <td>1.0</td>\n",
              "      <td>35.0</td>\n",
              "      <td>NaN</td>\n",
              "      <td>10.0</td>\n",
              "      <td>0.0</td>\n",
              "      <td>5598.0</td>\n",
              "      <td>21%</td>\n",
              "      <td>37.0</td>\n",
              "      <td>f</td>\n",
              "      <td>0.0</td>\n",
              "      <td>0.0</td>\n",
              "      <td>12231.890000</td>\n",
              "      <td>12231.89</td>\n",
              "      <td>10000.00</td>\n",
              "      <td>2214.92</td>\n",
              "      <td>...</td>\n",
              "      <td>NaN</td>\n",
              "      <td>0.0</td>\n",
              "      <td>0.0</td>\n",
              "      <td>NaN</td>\n",
              "      <td>NaN</td>\n",
              "      <td>NaN</td>\n",
              "      <td>NaN</td>\n",
              "      <td>NaN</td>\n",
              "      <td>NaN</td>\n",
              "      <td>NaN</td>\n",
              "      <td>NaN</td>\n",
              "      <td>NaN</td>\n",
              "      <td>NaN</td>\n",
              "      <td>NaN</td>\n",
              "      <td>NaN</td>\n",
              "      <td>NaN</td>\n",
              "      <td>NaN</td>\n",
              "      <td>NaN</td>\n",
              "      <td>N</td>\n",
              "      <td>NaN</td>\n",
              "      <td>NaN</td>\n",
              "      <td>NaN</td>\n",
              "      <td>NaN</td>\n",
              "      <td>NaN</td>\n",
              "      <td>NaN</td>\n",
              "      <td>NaN</td>\n",
              "      <td>NaN</td>\n",
              "      <td>NaN</td>\n",
              "      <td>NaN</td>\n",
              "      <td>NaN</td>\n",
              "      <td>NaN</td>\n",
              "      <td>NaN</td>\n",
              "      <td>NaN</td>\n",
              "      <td>N</td>\n",
              "      <td>NaN</td>\n",
              "      <td>NaN</td>\n",
              "      <td>NaN</td>\n",
              "      <td>NaN</td>\n",
              "      <td>NaN</td>\n",
              "      <td>NaN</td>\n",
              "    </tr>\n",
              "    <tr>\n",
              "      <th>4</th>\n",
              "      <td>NaN</td>\n",
              "      <td>NaN</td>\n",
              "      <td>3000.0</td>\n",
              "      <td>3000.0</td>\n",
              "      <td>3000.0</td>\n",
              "      <td>60 months</td>\n",
              "      <td>12.69%</td>\n",
              "      <td>67.79</td>\n",
              "      <td>B</td>\n",
              "      <td>B5</td>\n",
              "      <td>University Medical Group</td>\n",
              "      <td>1 year</td>\n",
              "      <td>RENT</td>\n",
              "      <td>80000.0</td>\n",
              "      <td>Source Verified</td>\n",
              "      <td>Dec-11</td>\n",
              "      <td>Fully Paid</td>\n",
              "      <td>n</td>\n",
              "      <td>other</td>\n",
              "      <td>Personal</td>\n",
              "      <td>972xx</td>\n",
              "      <td>OR</td>\n",
              "      <td>17.94</td>\n",
              "      <td>0.0</td>\n",
              "      <td>Jan-96</td>\n",
              "      <td>0.0</td>\n",
              "      <td>38.0</td>\n",
              "      <td>NaN</td>\n",
              "      <td>15.0</td>\n",
              "      <td>0.0</td>\n",
              "      <td>27783.0</td>\n",
              "      <td>53.90%</td>\n",
              "      <td>38.0</td>\n",
              "      <td>f</td>\n",
              "      <td>0.0</td>\n",
              "      <td>0.0</td>\n",
              "      <td>4066.908161</td>\n",
              "      <td>4066.91</td>\n",
              "      <td>3000.00</td>\n",
              "      <td>1066.91</td>\n",
              "      <td>...</td>\n",
              "      <td>NaN</td>\n",
              "      <td>0.0</td>\n",
              "      <td>0.0</td>\n",
              "      <td>NaN</td>\n",
              "      <td>NaN</td>\n",
              "      <td>NaN</td>\n",
              "      <td>NaN</td>\n",
              "      <td>NaN</td>\n",
              "      <td>NaN</td>\n",
              "      <td>NaN</td>\n",
              "      <td>NaN</td>\n",
              "      <td>NaN</td>\n",
              "      <td>NaN</td>\n",
              "      <td>NaN</td>\n",
              "      <td>NaN</td>\n",
              "      <td>NaN</td>\n",
              "      <td>NaN</td>\n",
              "      <td>NaN</td>\n",
              "      <td>N</td>\n",
              "      <td>NaN</td>\n",
              "      <td>NaN</td>\n",
              "      <td>NaN</td>\n",
              "      <td>NaN</td>\n",
              "      <td>NaN</td>\n",
              "      <td>NaN</td>\n",
              "      <td>NaN</td>\n",
              "      <td>NaN</td>\n",
              "      <td>NaN</td>\n",
              "      <td>NaN</td>\n",
              "      <td>NaN</td>\n",
              "      <td>NaN</td>\n",
              "      <td>NaN</td>\n",
              "      <td>NaN</td>\n",
              "      <td>N</td>\n",
              "      <td>NaN</td>\n",
              "      <td>NaN</td>\n",
              "      <td>NaN</td>\n",
              "      <td>NaN</td>\n",
              "      <td>NaN</td>\n",
              "      <td>NaN</td>\n",
              "    </tr>\n",
              "  </tbody>\n",
              "</table>\n",
              "<p>5 rows × 142 columns</p>\n",
              "</div>"
            ],
            "text/plain": [
              "    id  member_id  ...  settlement_percentage  settlement_term\n",
              "0  NaN        NaN  ...                    NaN              NaN\n",
              "1  NaN        NaN  ...                    NaN              NaN\n",
              "2  NaN        NaN  ...                    NaN              NaN\n",
              "3  NaN        NaN  ...                    NaN              NaN\n",
              "4  NaN        NaN  ...                    NaN              NaN\n",
              "\n",
              "[5 rows x 142 columns]"
            ]
          },
          "metadata": {
            "tags": []
          },
          "execution_count": 2
        }
      ]
    },
    {
      "cell_type": "code",
      "metadata": {
        "id": "vDpcx9whSTHt",
        "colab_type": "code",
        "outputId": "8d403e1b-819f-4c4f-a92d-1f924c5e6be6",
        "colab": {
          "base_uri": "https://localhost:8080/",
          "height": 35
        }
      },
      "source": [
        "data.shape"
      ],
      "execution_count": 3,
      "outputs": [
        {
          "output_type": "execute_result",
          "data": {
            "text/plain": [
              "(42542, 142)"
            ]
          },
          "metadata": {
            "tags": []
          },
          "execution_count": 3
        }
      ]
    },
    {
      "cell_type": "markdown",
      "metadata": {
        "id": "mHYgiPu8Ui44",
        "colab_type": "text"
      },
      "source": [
        "## Data Cleaning\n",
        "\n",
        "Many columns in this dataset consist of data that are derived from other columns while other columns leak data from the future. These columns would result in an overfitting of the training model.  There are also columns that provide no additional insight to the final decision. Columns that should be removed from the dataset:\n",
        "- columns with more than 50% missing values\n",
        "- columns with no additional insight:\n",
        "  1. **id**: randomly generated field by Lending Club for unique identification purposes only\n",
        "  2. **member_id**: also a randomly generated field by Lending Club for unique identification purposes only\n",
        "  3. **emp_title**: not fundamentally useful without many other columns\n",
        "- leaks data from the future (after the loan already started to be paid off)\n",
        "  1. **funded_amnt**\n",
        "  2. **funded_amnt_inv** \n",
        "  3. **issue_d**\n",
        "  4. **out_prncp**\n",
        "  5. **out_prncp_inv**\n",
        "  6. **total_pymnt**\n",
        "  7. **total_pymnt_inv**\n",
        "  8. **total_rec_prncp**\n",
        "  9. **total_rec_int**\n",
        "  10. **total_rec_late_fee**\n",
        "  11. **recoveries**\n",
        "  12. **collection_recovery_fee**\n",
        "  13. **last_pymnt_d**\n",
        "  14. **last_pymnt_amnt**\n",
        "- derived or redundant columns\n",
        "  1. **grade**: results in the fixing of **int_rate**. We will use **int_rate** instead \n",
        "  2. **sub_grade**: also  results in the fixing of **int_rate**. We will use **int_rate** instead \n",
        "  3. **zip_code**: redundant with the **addr_state** column\n"
      ]
    },
    {
      "cell_type": "markdown",
      "metadata": {
        "id": "ng-wtC4ONq3Z",
        "colab_type": "text"
      },
      "source": [
        "### Drop columns"
      ]
    },
    {
      "cell_type": "code",
      "metadata": {
        "id": "hnmW7Nv8KcGa",
        "colab_type": "code",
        "outputId": "e1766493-33f6-41c2-a712-c8f8ac8bb5da",
        "colab": {
          "base_uri": "https://localhost:8080/",
          "height": 35
        }
      },
      "source": [
        "#drop columns with more than 50% missing values\n",
        "data = data.dropna(thresh=(data.shape[0]/2), axis=1)\n",
        "data.shape"
      ],
      "execution_count": 4,
      "outputs": [
        {
          "output_type": "execute_result",
          "data": {
            "text/plain": [
              "(42542, 52)"
            ]
          },
          "metadata": {
            "tags": []
          },
          "execution_count": 4
        }
      ]
    },
    {
      "cell_type": "code",
      "metadata": {
        "id": "2ILGlhvoUBMu",
        "colab_type": "code",
        "outputId": "25536a99-cad9-47ee-f038-c1695c674b17",
        "colab": {
          "base_uri": "https://localhost:8080/",
          "height": 35
        }
      },
      "source": [
        "#drop remaining columns listed above\n",
        "cols_to_drop = ['funded_amnt', 'funded_amnt_inv', 'grade', 'sub_grade', 'emp_title', 'issue_d', 'zip_code','out_prncp','out_prncp_inv','total_pymnt','total_pymnt_inv','total_rec_prncp', 'total_rec_int','total_rec_late_fee','recoveries','collection_recovery_fee','last_pymnt_d', 'last_pymnt_amnt']\n",
        "data = data.drop(cols_to_drop, axis=1)\n",
        "data.shape"
      ],
      "execution_count": 5,
      "outputs": [
        {
          "output_type": "execute_result",
          "data": {
            "text/plain": [
              "(42542, 34)"
            ]
          },
          "metadata": {
            "tags": []
          },
          "execution_count": 5
        }
      ]
    },
    {
      "cell_type": "markdown",
      "metadata": {
        "id": "GZOe2z7ac4jd",
        "colab_type": "text"
      },
      "source": [
        "### Selecting Target Column\n",
        "\n",
        "From the description of the columns from the [data dictionary](https://docs.google.com/spreadsheets/d/191B2yJ4H1ZPXq0_ByhUgWMFZOYem5jFz0Y3by_7YBY4/edit#gid=2081333097), we have selected **loan_status** as the target column as it is the only column that directly describes if a loan was paid off on time, had delayed payments, or was defaulted on the borrower."
      ]
    },
    {
      "cell_type": "code",
      "metadata": {
        "id": "Cf37HKXdb23i",
        "colab_type": "code",
        "outputId": "e495264d-a4f3-499e-be89-a21ce43b5d87",
        "colab": {
          "base_uri": "https://localhost:8080/",
          "height": 108
        }
      },
      "source": [
        "data['loan_status'].value_counts()"
      ],
      "execution_count": 6,
      "outputs": [
        {
          "output_type": "execute_result",
          "data": {
            "text/plain": [
              "Fully Paid                                             34116\n",
              "Charged Off                                             5670\n",
              "Does not meet the credit policy. Status:Fully Paid      1988\n",
              "Does not meet the credit policy. Status:Charged Off      761\n",
              "Name: loan_status, dtype: int64"
            ]
          },
          "metadata": {
            "tags": []
          },
          "execution_count": 6
        }
      ]
    },
    {
      "cell_type": "markdown",
      "metadata": {
        "id": "VrugZpODjIyJ",
        "colab_type": "text"
      },
      "source": [
        "We are only interested in loans that are *Fully Paid* or *Charged Off*. We will drop the rest of the rows from the dataset. We will convert *Fully Paid* to 1 and *Charged Off* to 0."
      ]
    },
    {
      "cell_type": "code",
      "metadata": {
        "id": "I616k9M2iBmq",
        "colab_type": "code",
        "colab": {}
      },
      "source": [
        "interested = (data['loan_status'] == 'Fully Paid') | (data['loan_status'] == 'Charged Off')\n",
        "data = data[interested]"
      ],
      "execution_count": 0,
      "outputs": []
    },
    {
      "cell_type": "code",
      "metadata": {
        "id": "9XEl3e1Yjj3l",
        "colab_type": "code",
        "outputId": "b7c4529b-b10a-4ef4-cfc5-251ffff095e7",
        "colab": {
          "base_uri": "https://localhost:8080/",
          "height": 72
        }
      },
      "source": [
        "conversion = {'Fully Paid': 1, 'Charged Off': 0}\n",
        "data['loan_status'] = data['loan_status'].replace(conversion)\n",
        "data['loan_status'].value_counts()"
      ],
      "execution_count": 8,
      "outputs": [
        {
          "output_type": "execute_result",
          "data": {
            "text/plain": [
              "1    34116\n",
              "0     5670\n",
              "Name: loan_status, dtype: int64"
            ]
          },
          "metadata": {
            "tags": []
          },
          "execution_count": 8
        }
      ]
    },
    {
      "cell_type": "markdown",
      "metadata": {
        "id": "-8RIPEazI1-S",
        "colab_type": "text"
      },
      "source": [
        "### Drop columns with only one unique value"
      ]
    },
    {
      "cell_type": "code",
      "metadata": {
        "id": "0KXf7RVUI0YB",
        "colab_type": "code",
        "outputId": "ea06b205-2a86-4fcb-aa49-0d5d965431d4",
        "colab": {
          "base_uri": "https://localhost:8080/",
          "height": 35
        }
      },
      "source": [
        "non_unique = []\n",
        "\n",
        "for col in data.columns:\n",
        "  non_null = data[col].dropna().unique()\n",
        "  if len(non_null) < 2:\n",
        "    non_unique.append(col)\n",
        "    \n",
        "data = data.drop(non_unique, axis=1)\n",
        "data.shape"
      ],
      "execution_count": 9,
      "outputs": [
        {
          "output_type": "execute_result",
          "data": {
            "text/plain": [
              "(39786, 24)"
            ]
          },
          "metadata": {
            "tags": []
          },
          "execution_count": 9
        }
      ]
    },
    {
      "cell_type": "markdown",
      "metadata": {
        "id": "6QgARkiPGNIv",
        "colab_type": "text"
      },
      "source": [
        "## Feature Engineering\n",
        "\n",
        "In order to use the columns for sklearn models, we have to convert these columns to contain non-null numeric values. We may need to drop more columns or perform some string manipulation to convert them to float or integer types."
      ]
    },
    {
      "cell_type": "code",
      "metadata": {
        "id": "Hgztoar6mWSg",
        "colab_type": "code",
        "outputId": "b41f1f3e-d850-478d-9280-51dc05c49ff4",
        "colab": {
          "base_uri": "https://localhost:8080/",
          "height": 472
        }
      },
      "source": [
        "null_counts = data.isnull().sum()\n",
        "null_counts"
      ],
      "execution_count": 10,
      "outputs": [
        {
          "output_type": "execute_result",
          "data": {
            "text/plain": [
              "loan_amnt                  0\n",
              "term                       0\n",
              "int_rate                   0\n",
              "installment                0\n",
              "emp_length              1078\n",
              "home_ownership             0\n",
              "annual_inc                 0\n",
              "verification_status        0\n",
              "loan_status                0\n",
              "purpose                    0\n",
              "title                     11\n",
              "addr_state                 0\n",
              "dti                        0\n",
              "delinq_2yrs                0\n",
              "earliest_cr_line           0\n",
              "inq_last_6mths             0\n",
              "open_acc                   0\n",
              "pub_rec                    0\n",
              "revol_bal                  0\n",
              "revol_util                50\n",
              "total_acc                  0\n",
              "last_credit_pull_d         2\n",
              "pub_rec_bankruptcies     697\n",
              "debt_settlement_flag       0\n",
              "dtype: int64"
            ]
          },
          "metadata": {
            "tags": []
          },
          "execution_count": 10
        }
      ]
    },
    {
      "cell_type": "code",
      "metadata": {
        "id": "vJlM1mdhHb6U",
        "colab_type": "code",
        "outputId": "c488e00d-74a3-4293-ec11-49f89514f52a",
        "colab": {
          "base_uri": "https://localhost:8080/",
          "height": 235
        }
      },
      "source": [
        "data['emp_length'].value_counts()"
      ],
      "execution_count": 11,
      "outputs": [
        {
          "output_type": "execute_result",
          "data": {
            "text/plain": [
              "10+ years    8899\n",
              "< 1 year     4590\n",
              "2 years      4394\n",
              "3 years      4098\n",
              "4 years      3444\n",
              "5 years      3286\n",
              "1 year       3247\n",
              "6 years      2231\n",
              "7 years      1775\n",
              "8 years      1485\n",
              "9 years      1259\n",
              "Name: emp_length, dtype: int64"
            ]
          },
          "metadata": {
            "tags": []
          },
          "execution_count": 11
        }
      ]
    },
    {
      "cell_type": "markdown",
      "metadata": {
        "id": "DFCfL3ocXpvd",
        "colab_type": "text"
      },
      "source": [
        "Filling the null values with a mean of the years of employment would skew the data with the category of *10+ years*.  Dropping the null rows would be a better strategy since we would only be losing 2.7% of the data."
      ]
    },
    {
      "cell_type": "code",
      "metadata": {
        "id": "5MmJWb0sMcZ2",
        "colab_type": "code",
        "outputId": "e7fcc080-66d7-43cd-a596-249ab10bf30c",
        "colab": {
          "base_uri": "https://localhost:8080/",
          "height": 1000
        }
      },
      "source": [
        "data['revol_util'].value_counts()"
      ],
      "execution_count": 12,
      "outputs": [
        {
          "output_type": "execute_result",
          "data": {
            "text/plain": [
              "0%        980\n",
              "0.20%      63\n",
              "63%        62\n",
              "40.70%     59\n",
              "66.70%     58\n",
              "0.10%      58\n",
              "31.20%     57\n",
              "46.40%     57\n",
              "70.40%     57\n",
              "61%        57\n",
              "66.60%     57\n",
              "37.60%     56\n",
              "65.90%     56\n",
              "64.80%     55\n",
              "49.80%     55\n",
              "57.40%     55\n",
              "48.90%     55\n",
              "25.50%     55\n",
              "32%        54\n",
              "78.70%     54\n",
              "68.60%     54\n",
              "27.20%     54\n",
              "35.30%     54\n",
              "75.50%     54\n",
              "64.60%     54\n",
              "89.50%     54\n",
              "51.60%     54\n",
              "51.10%     54\n",
              "76.60%     54\n",
              "46.60%     54\n",
              "         ... \n",
              "10.17%      1\n",
              "0.05%       1\n",
              "24.66%      1\n",
              "0.04%       1\n",
              "69.98%      1\n",
              "8.01%       1\n",
              "29.53%      1\n",
              "58.77%      1\n",
              "17.78%      1\n",
              "70.94%      1\n",
              "39.95%      1\n",
              "28.41%      1\n",
              "56.26%      1\n",
              "9.34%       1\n",
              "0.12%       1\n",
              "5.33%       1\n",
              "0.83%       1\n",
              "8.58%       1\n",
              "32.71%      1\n",
              "54.22%      1\n",
              "10.08%      1\n",
              "33.29%      1\n",
              "36.94%      1\n",
              "49.63%      1\n",
              "0.03%       1\n",
              "18.82%      1\n",
              "0.01%       1\n",
              "26.32%      1\n",
              "21.59%      1\n",
              "7.28%       1\n",
              "Name: revol_util, Length: 1089, dtype: int64"
            ]
          },
          "metadata": {
            "tags": []
          },
          "execution_count": 12
        }
      ]
    },
    {
      "cell_type": "markdown",
      "metadata": {
        "id": "8cGi53T_Yujb",
        "colab_type": "text"
      },
      "source": [
        "There are only 50 null values in the **revol_util** column. Dropping these rows will have little impact to the resulting dataset."
      ]
    },
    {
      "cell_type": "code",
      "metadata": {
        "id": "EmWj9A5QNulC",
        "colab_type": "code",
        "outputId": "35bf1255-fd4f-4d43-e24a-7c9e447a3c87",
        "colab": {
          "base_uri": "https://localhost:8080/",
          "height": 1000
        }
      },
      "source": [
        "data['last_credit_pull_d'].value_counts()"
      ],
      "execution_count": 13,
      "outputs": [
        {
          "output_type": "execute_result",
          "data": {
            "text/plain": [
              "May-19    7919\n",
              "Oct-16    3579\n",
              "Apr-19     926\n",
              "Mar-19     766\n",
              "Aug-18     674\n",
              "Jan-19     651\n",
              "Feb-19     628\n",
              "Feb-17     593\n",
              "Jul-18     583\n",
              "Oct-18     577\n",
              "Nov-18     525\n",
              "Dec-18     507\n",
              "Feb-13     501\n",
              "Sep-18     433\n",
              "May-18     386\n",
              "Mar-13     386\n",
              "Jan-18     358\n",
              "Mar-16     350\n",
              "Apr-18     345\n",
              "Oct-17     341\n",
              "Mar-18     335\n",
              "Nov-17     327\n",
              "Dec-14     324\n",
              "Mar-14     320\n",
              "Aug-17     318\n",
              "Sep-14     315\n",
              "Jul-14     313\n",
              "Feb-18     310\n",
              "Feb-14     309\n",
              "Oct-14     301\n",
              "          ... \n",
              "Dec-09      26\n",
              "Jan-10      24\n",
              "Jan-13      23\n",
              "Oct-09      21\n",
              "Nov-09      18\n",
              "Aug-07      15\n",
              "Aug-09      14\n",
              "Feb-09      14\n",
              "Apr-09      14\n",
              "Jul-09      13\n",
              "Jun-09      12\n",
              "Jun-07      12\n",
              "Jan-09      11\n",
              "May-09      10\n",
              "Mar-09       9\n",
              "Aug-08       8\n",
              "Sep-09       8\n",
              "Oct-08       7\n",
              "Dec-08       5\n",
              "Sep-08       5\n",
              "Mar-08       4\n",
              "Jan-08       3\n",
              "Oct-07       3\n",
              "Feb-08       2\n",
              "Sep-07       2\n",
              "Jun-08       1\n",
              "Dec-07       1\n",
              "Jul-07       1\n",
              "May-07       1\n",
              "Jul-08       1\n",
              "Name: last_credit_pull_d, Length: 141, dtype: int64"
            ]
          },
          "metadata": {
            "tags": []
          },
          "execution_count": 13
        }
      ]
    },
    {
      "cell_type": "markdown",
      "metadata": {
        "id": "wcoa0FwiTX2M",
        "colab_type": "text"
      },
      "source": [
        "**emp_length**, **revol_util** and **last_credit_pull_d** are columns that provide valuable information on the loans and should not be dropped. Instead, we will drop the rows with null values and lose a small percentage of the data."
      ]
    },
    {
      "cell_type": "code",
      "metadata": {
        "id": "4TVU9gZrTSbX",
        "colab_type": "code",
        "outputId": "21a320df-2f9d-47b0-b1a4-55389c01a269",
        "colab": {
          "base_uri": "https://localhost:8080/",
          "height": 35
        }
      },
      "source": [
        "data = data.dropna()\n",
        "data.shape"
      ],
      "execution_count": 14,
      "outputs": [
        {
          "output_type": "execute_result",
          "data": {
            "text/plain": [
              "(37953, 24)"
            ]
          },
          "metadata": {
            "tags": []
          },
          "execution_count": 14
        }
      ]
    },
    {
      "cell_type": "code",
      "metadata": {
        "id": "0DNR3bbTMY0m",
        "colab_type": "code",
        "outputId": "9da010a6-53f3-4402-da45-f31fe9a2d5a0",
        "colab": {
          "base_uri": "https://localhost:8080/",
          "height": 1000
        }
      },
      "source": [
        "data['title'].value_counts()"
      ],
      "execution_count": 15,
      "outputs": [
        {
          "output_type": "execute_result",
          "data": {
            "text/plain": [
              "Debt Consolidation                          2127\n",
              "Debt Consolidation Loan                     1691\n",
              "Personal Loan                                620\n",
              "Consolidation                                499\n",
              "debt consolidation                           483\n",
              "Home Improvement                             345\n",
              "Credit Card Consolidation                    342\n",
              "Debt consolidation                           318\n",
              "Small Business Loan                          317\n",
              "Credit Card Loan                             307\n",
              "Personal                                     295\n",
              "Consolidation Loan                           252\n",
              "Home Improvement Loan                        239\n",
              "personal loan                                212\n",
              "Wedding Loan                                 207\n",
              "Loan                                         205\n",
              "personal                                     201\n",
              "consolidation                                197\n",
              "Car Loan                                     195\n",
              "Other Loan                                   179\n",
              "Wedding                                      150\n",
              "Credit Card Payoff                           149\n",
              "Credit Card Refinance                        141\n",
              "Major Purchase Loan                          137\n",
              "Consolidate                                  126\n",
              "Medical                                      114\n",
              "Credit Card                                  113\n",
              "home improvement                             106\n",
              "My Loan                                       90\n",
              "Credit Cards                                  88\n",
              "                                            ... \n",
              "secret 7                                       1\n",
              "making a happy family                          1\n",
              "BENEFICIAL LOAN PAYOFF                         1\n",
              "Proven Borrower with stable income             1\n",
              "DEBT FREE WOO HOO                              1\n",
              "No Leaky Roof for the Holidays                 1\n",
              "Loan for College and Living Expenses           1\n",
              "Air Conditioning Loan                          1\n",
              "creditloan                                     1\n",
              "My car needs a bedroom                         1\n",
              "Bills Loan                                     1\n",
              "Consolidate debt single fixed payment          1\n",
              "House payoff                                   1\n",
              "Water Heater & new pipes                       1\n",
              "Pay My bills loan                              1\n",
              "Common sense Business loan                     1\n",
              "hard luck loan                                 1\n",
              "for me                                         1\n",
              "consolidate and reduce credit card rates       1\n",
              "Credit Card Rates To High                      1\n",
              "creditcard                                     1\n",
              "paydown                                        1\n",
              "Loan For Catch Up                              1\n",
              "hornedfrogs                                    1\n",
              "Family Medical Out of Pocket Expenses          1\n",
              "Big One                                        1\n",
              "Great Credit                                   1\n",
              "FREEDOM LOAN                                   1\n",
              "debt consolidation loan 2011                   1\n",
              "Fixing up the new OLD house                    1\n",
              "Name: title, Length: 18721, dtype: int64"
            ]
          },
          "metadata": {
            "tags": []
          },
          "execution_count": 15
        }
      ]
    },
    {
      "cell_type": "markdown",
      "metadata": {
        "id": "YBo6pvlIQ_ZA",
        "colab_type": "text"
      },
      "source": [
        "The data quality of the **title** column  is not ideal for our analysis as we can see that it contains *Consolidation*, *Debt Consolidation*, *Debt Consolidation Loan* etc that mean the same thing. There are also varying versions of personal loans. Additionally, the **purpose** column contains no null values and convey similar information on the loan. Therefore, the **title** column should be dropped."
      ]
    },
    {
      "cell_type": "code",
      "metadata": {
        "id": "Q4a68Z3CSFEk",
        "colab_type": "code",
        "colab": {}
      },
      "source": [
        "data = data.drop(['title'], axis=1)"
      ],
      "execution_count": 0,
      "outputs": []
    },
    {
      "cell_type": "code",
      "metadata": {
        "id": "3KS21im6MxXo",
        "colab_type": "code",
        "outputId": "3cf683fd-7a3a-467c-d16b-c534cf8a050d",
        "colab": {
          "base_uri": "https://localhost:8080/",
          "height": 90
        }
      },
      "source": [
        "data['pub_rec_bankruptcies'].value_counts()"
      ],
      "execution_count": 17,
      "outputs": [
        {
          "output_type": "execute_result",
          "data": {
            "text/plain": [
              "0.0    36380\n",
              "1.0     1566\n",
              "2.0        7\n",
              "Name: pub_rec_bankruptcies, dtype: int64"
            ]
          },
          "metadata": {
            "tags": []
          },
          "execution_count": 17
        }
      ]
    },
    {
      "cell_type": "markdown",
      "metadata": {
        "id": "VgVGd0gBM_os",
        "colab_type": "text"
      },
      "source": [
        "Since 96% of the values in **pub_rec_bankruptcies** are made up of one value. We can drop this column since it will not provide very much additional insights on our analysis."
      ]
    },
    {
      "cell_type": "code",
      "metadata": {
        "id": "VWyKy15bM1io",
        "colab_type": "code",
        "outputId": "3dd20ba3-74c1-4a89-fb91-7219c07fc4d2",
        "colab": {
          "base_uri": "https://localhost:8080/",
          "height": 35
        }
      },
      "source": [
        "data = data.drop(['pub_rec_bankruptcies'], axis=1)\n",
        "data.shape"
      ],
      "execution_count": 18,
      "outputs": [
        {
          "output_type": "execute_result",
          "data": {
            "text/plain": [
              "(37953, 22)"
            ]
          },
          "metadata": {
            "tags": []
          },
          "execution_count": 18
        }
      ]
    },
    {
      "cell_type": "code",
      "metadata": {
        "id": "t5JTzpN9UChd",
        "colab_type": "code",
        "outputId": "b715652b-e8e1-44d8-f810-8b065180e7b7",
        "colab": {
          "base_uri": "https://localhost:8080/",
          "height": 508
        }
      },
      "source": [
        "data.info()"
      ],
      "execution_count": 19,
      "outputs": [
        {
          "output_type": "stream",
          "text": [
            "<class 'pandas.core.frame.DataFrame'>\n",
            "Int64Index: 37953 entries, 0 to 39749\n",
            "Data columns (total 22 columns):\n",
            "loan_amnt               37953 non-null float64\n",
            "term                    37953 non-null object\n",
            "int_rate                37953 non-null object\n",
            "installment             37953 non-null float64\n",
            "emp_length              37953 non-null object\n",
            "home_ownership          37953 non-null object\n",
            "annual_inc              37953 non-null float64\n",
            "verification_status     37953 non-null object\n",
            "loan_status             37953 non-null int64\n",
            "purpose                 37953 non-null object\n",
            "addr_state              37953 non-null object\n",
            "dti                     37953 non-null float64\n",
            "delinq_2yrs             37953 non-null float64\n",
            "earliest_cr_line        37953 non-null object\n",
            "inq_last_6mths          37953 non-null float64\n",
            "open_acc                37953 non-null float64\n",
            "pub_rec                 37953 non-null float64\n",
            "revol_bal               37953 non-null float64\n",
            "revol_util              37953 non-null object\n",
            "total_acc               37953 non-null float64\n",
            "last_credit_pull_d      37953 non-null object\n",
            "debt_settlement_flag    37953 non-null object\n",
            "dtypes: float64(10), int64(1), object(11)\n",
            "memory usage: 6.7+ MB\n"
          ],
          "name": "stdout"
        }
      ]
    },
    {
      "cell_type": "markdown",
      "metadata": {
        "id": "_qJP6sCDVOHS",
        "colab_type": "text"
      },
      "source": [
        "The remaining columns do not consist of null values. Next, we will have to handle the columns that are not numeric. There are 11 object columns that needs to be considered before proceeding further."
      ]
    },
    {
      "cell_type": "code",
      "metadata": {
        "id": "R45PFfJtVGOq",
        "colab_type": "code",
        "outputId": "afe19f3e-b8fa-4d0a-b729-bdb7daec5e26",
        "colab": {
          "base_uri": "https://localhost:8080/",
          "height": 72
        }
      },
      "source": [
        "data['term'].value_counts()"
      ],
      "execution_count": 20,
      "outputs": [
        {
          "output_type": "execute_result",
          "data": {
            "text/plain": [
              " 36 months    27538\n",
              " 60 months    10415\n",
              "Name: term, dtype: int64"
            ]
          },
          "metadata": {
            "tags": []
          },
          "execution_count": 20
        }
      ]
    },
    {
      "cell_type": "markdown",
      "metadata": {
        "id": "_6fH7QQwVgee",
        "colab_type": "text"
      },
      "source": [
        "We can remove the string *months* and convert this column to an integer type."
      ]
    },
    {
      "cell_type": "code",
      "metadata": {
        "id": "F26P7CvDVd92",
        "colab_type": "code",
        "outputId": "dc18b931-670c-4ebd-b9f2-108af1eaf0f6",
        "colab": {
          "base_uri": "https://localhost:8080/",
          "height": 72
        }
      },
      "source": [
        "data['term'] = data['term'].str.strip().str.slice(stop=2).astype(int)\n",
        "data['term'].value_counts()"
      ],
      "execution_count": 21,
      "outputs": [
        {
          "output_type": "execute_result",
          "data": {
            "text/plain": [
              "36    27538\n",
              "60    10415\n",
              "Name: term, dtype: int64"
            ]
          },
          "metadata": {
            "tags": []
          },
          "execution_count": 21
        }
      ]
    },
    {
      "cell_type": "code",
      "metadata": {
        "id": "9YAw_uGJWclm",
        "colab_type": "code",
        "outputId": "c72cbea1-b930-48e1-ca91-b8ebd13e28f0",
        "colab": {
          "base_uri": "https://localhost:8080/",
          "height": 1000
        }
      },
      "source": [
        "data['int_rate'].value_counts()"
      ],
      "execution_count": 22,
      "outputs": [
        {
          "output_type": "execute_result",
          "data": {
            "text/plain": [
              "10.99%    934\n",
              "13.49%    817\n",
              "11.49%    800\n",
              "7.51%     756\n",
              "7.88%     701\n",
              "7.49%     633\n",
              "11.71%    591\n",
              "9.99%     583\n",
              "7.90%     559\n",
              "5.42%     524\n",
              "11.99%    519\n",
              "12.69%    480\n",
              "10.37%    454\n",
              "12.42%    432\n",
              "12.99%    431\n",
              "8.49%     430\n",
              "10.65%    421\n",
              "6.03%     413\n",
              "5.79%     390\n",
              "8.90%     384\n",
              "14.27%    382\n",
              "7.29%     379\n",
              "6.62%     376\n",
              "11.86%    375\n",
              "9.63%     368\n",
              "10.59%    352\n",
              "9.91%     349\n",
              "5.99%     329\n",
              "12.53%    327\n",
              "7.14%     326\n",
              "         ... \n",
              "16.08%      2\n",
              "15.38%      2\n",
              "15.76%      2\n",
              "13.93%      1\n",
              "12.49%      1\n",
              "17.03%      1\n",
              "24.59%      1\n",
              "13.84%      1\n",
              "21.48%      1\n",
              "16.20%      1\n",
              "18.72%      1\n",
              "20.52%      1\n",
              "24.40%      1\n",
              "9.83%       1\n",
              "11.22%      1\n",
              "13.30%      1\n",
              "22.64%      1\n",
              "16.01%      1\n",
              "9.51%       1\n",
              "10.28%      1\n",
              "10.46%      1\n",
              "16.96%      1\n",
              "12.36%      1\n",
              "10.91%      1\n",
              "16.33%      1\n",
              "10.64%      1\n",
              "17.54%      1\n",
              "9.01%       1\n",
              "17.46%      1\n",
              "17.44%      1\n",
              "Name: int_rate, Length: 337, dtype: int64"
            ]
          },
          "metadata": {
            "tags": []
          },
          "execution_count": 22
        }
      ]
    },
    {
      "cell_type": "code",
      "metadata": {
        "id": "N_FN_MbsXKZS",
        "colab_type": "code",
        "outputId": "4acfb679-6b3c-417d-dc19-3018c175181e",
        "colab": {
          "base_uri": "https://localhost:8080/",
          "height": 1000
        }
      },
      "source": [
        "#remove '%' from the column to convert them to float\n",
        "data['int_rate'] = data['int_rate'].str.strip().str[:-1].astype(float)\n",
        "data['int_rate'].value_counts()"
      ],
      "execution_count": 23,
      "outputs": [
        {
          "output_type": "execute_result",
          "data": {
            "text/plain": [
              "10.99    934\n",
              "13.49    817\n",
              "11.49    800\n",
              "7.51     756\n",
              "7.88     701\n",
              "7.49     633\n",
              "11.71    591\n",
              "9.99     583\n",
              "7.90     559\n",
              "5.42     524\n",
              "11.99    519\n",
              "12.69    480\n",
              "10.37    454\n",
              "12.42    432\n",
              "12.99    431\n",
              "8.49     430\n",
              "10.65    421\n",
              "6.03     413\n",
              "5.79     390\n",
              "8.90     384\n",
              "14.27    382\n",
              "7.29     379\n",
              "6.62     376\n",
              "11.86    375\n",
              "9.63     368\n",
              "10.59    352\n",
              "9.91     349\n",
              "5.99     329\n",
              "12.53    327\n",
              "7.14     326\n",
              "        ... \n",
              "15.38      2\n",
              "15.07      2\n",
              "16.08      2\n",
              "22.64      1\n",
              "24.40      1\n",
              "21.48      1\n",
              "10.46      1\n",
              "16.96      1\n",
              "9.01       1\n",
              "12.49      1\n",
              "20.52      1\n",
              "17.54      1\n",
              "13.84      1\n",
              "10.64      1\n",
              "13.30      1\n",
              "18.72      1\n",
              "17.46      1\n",
              "10.28      1\n",
              "9.83       1\n",
              "17.03      1\n",
              "24.59      1\n",
              "12.36      1\n",
              "9.51       1\n",
              "13.93      1\n",
              "16.01      1\n",
              "10.91      1\n",
              "16.33      1\n",
              "16.20      1\n",
              "11.22      1\n",
              "17.44      1\n",
              "Name: int_rate, Length: 337, dtype: int64"
            ]
          },
          "metadata": {
            "tags": []
          },
          "execution_count": 23
        }
      ]
    },
    {
      "cell_type": "code",
      "metadata": {
        "id": "edkSXglpYGns",
        "colab_type": "code",
        "outputId": "c776136c-8dc7-4ee3-b1c7-b685711c147d",
        "colab": {
          "base_uri": "https://localhost:8080/",
          "height": 217
        }
      },
      "source": [
        "#remove 'years' from column and convert it to int\n",
        "import re\n",
        "data['emp_length'] = data['emp_length'].apply(lambda x : re.sub('[a-z\\s\\+\\<]+', \"\", x)).astype(int)\n",
        "data['emp_length'].value_counts()"
      ],
      "execution_count": 24,
      "outputs": [
        {
          "output_type": "execute_result",
          "data": {
            "text/plain": [
              "10    8778\n",
              "1     7558\n",
              "2     4305\n",
              "3     4033\n",
              "4     3390\n",
              "5     3246\n",
              "6     2195\n",
              "7     1749\n",
              "8     1458\n",
              "9     1241\n",
              "Name: emp_length, dtype: int64"
            ]
          },
          "metadata": {
            "tags": []
          },
          "execution_count": 24
        }
      ]
    },
    {
      "cell_type": "code",
      "metadata": {
        "id": "93yPi7LjnDrH",
        "colab_type": "code",
        "outputId": "1e27fcd2-2586-4f20-ab08-e1b6a7dca5ea",
        "colab": {
          "base_uri": "https://localhost:8080/",
          "height": 108
        }
      },
      "source": [
        "data['home_ownership'].value_counts()"
      ],
      "execution_count": 25,
      "outputs": [
        {
          "output_type": "execute_result",
          "data": {
            "text/plain": [
              "RENT        18091\n",
              "MORTGAGE    16991\n",
              "OWN          2775\n",
              "OTHER          96\n",
              "Name: home_ownership, dtype: int64"
            ]
          },
          "metadata": {
            "tags": []
          },
          "execution_count": 25
        }
      ]
    },
    {
      "cell_type": "markdown",
      "metadata": {
        "id": "4lQEITM9uCHP",
        "colab_type": "text"
      },
      "source": [
        "We will convert this to categorical datatype and add dummy variables to convert them to numerical columns. "
      ]
    },
    {
      "cell_type": "code",
      "metadata": {
        "id": "FXEv7AXjt38W",
        "colab_type": "code",
        "colab": {}
      },
      "source": [
        "categorical_cols = ['home_ownership']"
      ],
      "execution_count": 0,
      "outputs": []
    },
    {
      "cell_type": "code",
      "metadata": {
        "id": "jAbzn-NguTYU",
        "colab_type": "code",
        "outputId": "8c98345b-ae40-4347-ded8-cfa29d3a2f38",
        "colab": {
          "base_uri": "https://localhost:8080/",
          "height": 90
        }
      },
      "source": [
        "data['verification_status'].value_counts()"
      ],
      "execution_count": 27,
      "outputs": [
        {
          "output_type": "execute_result",
          "data": {
            "text/plain": [
              "Not Verified       15773\n",
              "Verified           12376\n",
              "Source Verified     9804\n",
              "Name: verification_status, dtype: int64"
            ]
          },
          "metadata": {
            "tags": []
          },
          "execution_count": 27
        }
      ]
    },
    {
      "cell_type": "code",
      "metadata": {
        "id": "5ghXwCCauaSW",
        "colab_type": "code",
        "colab": {}
      },
      "source": [
        "#add to categorical columns list\n",
        "categorical_cols.append('verification_status')"
      ],
      "execution_count": 0,
      "outputs": []
    },
    {
      "cell_type": "code",
      "metadata": {
        "id": "c0AmFw-iujAf",
        "colab_type": "code",
        "outputId": "a8ee3243-e595-4ed0-c6e3-0ce4aa96c470",
        "colab": {
          "base_uri": "https://localhost:8080/",
          "height": 290
        }
      },
      "source": [
        "data['purpose'].value_counts()"
      ],
      "execution_count": 29,
      "outputs": [
        {
          "output_type": "execute_result",
          "data": {
            "text/plain": [
              "debt_consolidation    17971\n",
              "credit_card            4906\n",
              "other                  3720\n",
              "home_improvement       2836\n",
              "major_purchase         2090\n",
              "small_business         1730\n",
              "car                    1480\n",
              "wedding                 915\n",
              "medical                 659\n",
              "moving                  548\n",
              "house                   364\n",
              "vacation                345\n",
              "educational             294\n",
              "renewable_energy         95\n",
              "Name: purpose, dtype: int64"
            ]
          },
          "metadata": {
            "tags": []
          },
          "execution_count": 29
        }
      ]
    },
    {
      "cell_type": "code",
      "metadata": {
        "id": "sC2yGNwJup9B",
        "colab_type": "code",
        "colab": {}
      },
      "source": [
        "#add to categorical columns list\n",
        "categorical_cols.append('purpose')"
      ],
      "execution_count": 0,
      "outputs": []
    },
    {
      "cell_type": "code",
      "metadata": {
        "id": "XnLL2rivuu4W",
        "colab_type": "code",
        "outputId": "cb1ed17e-b8d3-41c2-cb00-b90f557c743f",
        "colab": {
          "base_uri": "https://localhost:8080/",
          "height": 927
        }
      },
      "source": [
        "data['addr_state'].value_counts()"
      ],
      "execution_count": 31,
      "outputs": [
        {
          "output_type": "execute_result",
          "data": {
            "text/plain": [
              "CA    6825\n",
              "NY    3624\n",
              "FL    2727\n",
              "TX    2628\n",
              "NJ    1792\n",
              "IL    1475\n",
              "PA    1472\n",
              "VA    1345\n",
              "GA    1333\n",
              "MA    1275\n",
              "OH    1173\n",
              "MD    1009\n",
              "AZ     820\n",
              "WA     784\n",
              "CO     746\n",
              "NC     730\n",
              "CT     724\n",
              "MI     679\n",
              "MO     653\n",
              "MN     584\n",
              "NV     479\n",
              "SC     456\n",
              "OR     430\n",
              "WI     428\n",
              "AL     426\n",
              "LA     417\n",
              "KY     321\n",
              "OK     292\n",
              "KS     258\n",
              "UT     247\n",
              "AR     232\n",
              "DC     209\n",
              "RI     195\n",
              "NM     178\n",
              "WV     168\n",
              "HI     168\n",
              "NH     159\n",
              "DE     108\n",
              "MT      79\n",
              "WY      78\n",
              "AK      78\n",
              "SD      61\n",
              "VT      52\n",
              "MS      19\n",
              "TN      10\n",
              "ID       4\n",
              "IA       1\n",
              "NE       1\n",
              "IN       1\n",
              "Name: addr_state, dtype: int64"
            ]
          },
          "metadata": {
            "tags": []
          },
          "execution_count": 31
        }
      ]
    },
    {
      "cell_type": "markdown",
      "metadata": {
        "id": "fbYty9i_vMIj",
        "colab_type": "text"
      },
      "source": [
        "There are too many discrete values to convert to dummy variables. Therefore, we will drop this column."
      ]
    },
    {
      "cell_type": "code",
      "metadata": {
        "id": "FQKP49Y0v66-",
        "colab_type": "code",
        "colab": {}
      },
      "source": [
        "too_many_discrete = ['addr_state']"
      ],
      "execution_count": 0,
      "outputs": []
    },
    {
      "cell_type": "code",
      "metadata": {
        "id": "48j9r7etvd6j",
        "colab_type": "code",
        "outputId": "5338c7a8-f26a-4b50-8faa-bcb00831fd52",
        "colab": {
          "base_uri": "https://localhost:8080/",
          "height": 1000
        }
      },
      "source": [
        "data['earliest_cr_line'].value_counts()"
      ],
      "execution_count": 33,
      "outputs": [
        {
          "output_type": "execute_result",
          "data": {
            "text/plain": [
              "Nov-98    361\n",
              "Oct-99    358\n",
              "Dec-98    335\n",
              "Oct-00    331\n",
              "Dec-97    311\n",
              "Nov-00    310\n",
              "Nov-99    310\n",
              "Oct-98    294\n",
              "Nov-97    293\n",
              "Sep-00    288\n",
              "Dec-99    280\n",
              "Dec-95    279\n",
              "Jan-00    274\n",
              "Jul-00    268\n",
              "Dec-00    266\n",
              "Aug-00    260\n",
              "Nov-96    260\n",
              "Dec-96    260\n",
              "Sep-01    258\n",
              "Oct-01    253\n",
              "Oct-02    253\n",
              "Sep-99    252\n",
              "Aug-98    252\n",
              "Apr-00    248\n",
              "May-00    248\n",
              "Aug-99    245\n",
              "Oct-03    240\n",
              "Oct-97    237\n",
              "Jan-01    236\n",
              "Sep-98    235\n",
              "         ... \n",
              "Sep-56      1\n",
              "Dec-65      1\n",
              "Nov-68      1\n",
              "Jun-68      1\n",
              "Oct-08      1\n",
              "Apr-69      1\n",
              "Jun-67      1\n",
              "Feb-67      1\n",
              "Nov-54      1\n",
              "May-72      1\n",
              "Dec-50      1\n",
              "Nov-72      1\n",
              "Sep-63      1\n",
              "Oct-70      1\n",
              "Aug-67      1\n",
              "Oct-68      1\n",
              "Feb-66      1\n",
              "May-67      1\n",
              "Oct-64      1\n",
              "Oct-63      1\n",
              "Jun-72      1\n",
              "Jun-69      1\n",
              "Jan-46      1\n",
              "Jul-67      1\n",
              "Feb-73      1\n",
              "Feb-69      1\n",
              "Apr-64      1\n",
              "Jan-63      1\n",
              "Nov-62      1\n",
              "Dec-66      1\n",
              "Name: earliest_cr_line, Length: 514, dtype: int64"
            ]
          },
          "metadata": {
            "tags": []
          },
          "execution_count": 33
        }
      ]
    },
    {
      "cell_type": "code",
      "metadata": {
        "id": "j2Yllz4vvnSD",
        "colab_type": "code",
        "colab": {}
      },
      "source": [
        "#add to too many discrete columns\n",
        "too_many_discrete.append('earliest_cr_line')"
      ],
      "execution_count": 0,
      "outputs": []
    },
    {
      "cell_type": "code",
      "metadata": {
        "id": "qCNADYONwL8I",
        "colab_type": "code",
        "outputId": "ab32fec6-3fce-470a-cb05-d6f19e7d9ead",
        "colab": {
          "base_uri": "https://localhost:8080/",
          "height": 1000
        }
      },
      "source": [
        "data['revol_util'].value_counts()"
      ],
      "execution_count": 35,
      "outputs": [
        {
          "output_type": "execute_result",
          "data": {
            "text/plain": [
              "0%        908\n",
              "0.20%      60\n",
              "40.70%     57\n",
              "66.60%     56\n",
              "61%        56\n",
              "63%        56\n",
              "70.40%     56\n",
              "66.70%     55\n",
              "64.80%     55\n",
              "46.40%     55\n",
              "31.20%     55\n",
              "0.10%      55\n",
              "37.60%     55\n",
              "32%        54\n",
              "68.70%     53\n",
              "46.60%     53\n",
              "70.80%     53\n",
              "78.70%     53\n",
              "57.40%     53\n",
              "27.20%     53\n",
              "68.60%     53\n",
              "48.90%     53\n",
              "76.60%     52\n",
              "49.80%     52\n",
              "41%        52\n",
              "51.60%     52\n",
              "64.60%     52\n",
              "62.80%     52\n",
              "65.90%     52\n",
              "45.60%     52\n",
              "         ... \n",
              "8.49%       1\n",
              "62.31%      1\n",
              "46.74%      1\n",
              "33.39%      1\n",
              "39.95%      1\n",
              "24.89%      1\n",
              "49.69%      1\n",
              "26.32%      1\n",
              "24.63%      1\n",
              "16.02%      1\n",
              "21.72%      1\n",
              "32.71%      1\n",
              "43.61%      1\n",
              "37.73%      1\n",
              "10.61%      1\n",
              "24.65%      1\n",
              "0.86%       1\n",
              "24.66%      1\n",
              "33.26%      1\n",
              "5.33%       1\n",
              "8.58%       1\n",
              "18.82%      1\n",
              "7.43%       1\n",
              "0.54%       1\n",
              "5.79%       1\n",
              "25.74%      1\n",
              "70.26%      1\n",
              "0.03%       1\n",
              "33.14%      1\n",
              "70.94%      1\n",
              "Name: revol_util, Length: 1087, dtype: int64"
            ]
          },
          "metadata": {
            "tags": []
          },
          "execution_count": 35
        }
      ]
    },
    {
      "cell_type": "code",
      "metadata": {
        "id": "bNjYevCpwe0D",
        "colab_type": "code",
        "outputId": "a77d5c8c-603a-4d76-c645-cb640c5d79ca",
        "colab": {
          "base_uri": "https://localhost:8080/",
          "height": 53
        }
      },
      "source": [
        "data['revol_util'] = data['revol_util'].str.strip().str[:-1].astype(float)\n",
        "data['revol_util'].unique()"
      ],
      "execution_count": 36,
      "outputs": [
        {
          "output_type": "execute_result",
          "data": {
            "text/plain": [
              "array([8.370e+01, 9.400e+00, 9.850e+01, ..., 4.963e+01, 4.000e-02,\n",
              "       7.280e+00])"
            ]
          },
          "metadata": {
            "tags": []
          },
          "execution_count": 36
        }
      ]
    },
    {
      "cell_type": "code",
      "metadata": {
        "id": "PRW3GceKwzbO",
        "colab_type": "code",
        "outputId": "4af69d36-c955-4f9c-dc52-33a74cfdf32c",
        "colab": {
          "base_uri": "https://localhost:8080/",
          "height": 1000
        }
      },
      "source": [
        "data['last_credit_pull_d'].value_counts()"
      ],
      "execution_count": 37,
      "outputs": [
        {
          "output_type": "execute_result",
          "data": {
            "text/plain": [
              "May-19    7635\n",
              "Oct-16    3423\n",
              "Apr-19     874\n",
              "Mar-19     732\n",
              "Aug-18     644\n",
              "Jan-19     624\n",
              "Feb-19     607\n",
              "Jul-18     567\n",
              "Feb-17     561\n",
              "Oct-18     546\n",
              "Nov-18     498\n",
              "Dec-18     493\n",
              "Feb-13     492\n",
              "Sep-18     415\n",
              "May-18     372\n",
              "Mar-13     367\n",
              "Jan-18     348\n",
              "Oct-17     336\n",
              "Mar-16     335\n",
              "Apr-18     333\n",
              "Mar-18     321\n",
              "Nov-17     320\n",
              "Mar-14     309\n",
              "Aug-17     309\n",
              "Dec-14     308\n",
              "Feb-18     300\n",
              "Sep-14     297\n",
              "Jul-14     297\n",
              "Feb-14     293\n",
              "Dec-17     290\n",
              "          ... \n",
              "Jul-10      50\n",
              "Oct-10      46\n",
              "Nov-10      42\n",
              "Aug-10      34\n",
              "Feb-10      33\n",
              "Mar-10      32\n",
              "Apr-10      28\n",
              "May-10      27\n",
              "Jun-10      25\n",
              "Jan-13      21\n",
              "Dec-09      20\n",
              "Jan-10      19\n",
              "Oct-09      19\n",
              "Nov-09      14\n",
              "Apr-09      10\n",
              "Jul-09      10\n",
              "Aug-09      10\n",
              "Aug-07       9\n",
              "Feb-09       8\n",
              "May-09       7\n",
              "Mar-09       7\n",
              "Sep-09       7\n",
              "Jun-09       6\n",
              "Oct-08       4\n",
              "Mar-08       4\n",
              "Jan-09       4\n",
              "Dec-08       3\n",
              "Sep-08       3\n",
              "Aug-08       3\n",
              "Jun-08       1\n",
              "Name: last_credit_pull_d, Length: 132, dtype: int64"
            ]
          },
          "metadata": {
            "tags": []
          },
          "execution_count": 37
        }
      ]
    },
    {
      "cell_type": "code",
      "metadata": {
        "id": "qcBClpwUw8f4",
        "colab_type": "code",
        "colab": {}
      },
      "source": [
        "#add to too many discrete columns\n",
        "too_many_discrete.append('last_credit_pull_d')"
      ],
      "execution_count": 0,
      "outputs": []
    },
    {
      "cell_type": "code",
      "metadata": {
        "id": "6vf-5wwrxG4g",
        "colab_type": "code",
        "outputId": "c2dd7efc-fee7-4654-b879-fa5be98a7186",
        "colab": {
          "base_uri": "https://localhost:8080/",
          "height": 72
        }
      },
      "source": [
        "data['debt_settlement_flag'].value_counts()"
      ],
      "execution_count": 39,
      "outputs": [
        {
          "output_type": "execute_result",
          "data": {
            "text/plain": [
              "N    37814\n",
              "Y      139\n",
              "Name: debt_settlement_flag, dtype: int64"
            ]
          },
          "metadata": {
            "tags": []
          },
          "execution_count": 39
        }
      ]
    },
    {
      "cell_type": "code",
      "metadata": {
        "id": "LxMvIfTNxQBc",
        "colab_type": "code",
        "colab": {}
      },
      "source": [
        "#replace Y/N with numerical values\n",
        "data['debt_settlement_flag'] = data['debt_settlement_flag'].replace({'N': 0, 'Y':1}).astype(int)"
      ],
      "execution_count": 0,
      "outputs": []
    },
    {
      "cell_type": "code",
      "metadata": {
        "id": "7bsRR-efx4EJ",
        "colab_type": "code",
        "colab": {}
      },
      "source": [
        "data.drop(too_many_discrete, axis=1, inplace=True)"
      ],
      "execution_count": 0,
      "outputs": []
    },
    {
      "cell_type": "code",
      "metadata": {
        "id": "Fw8e01opyUdX",
        "colab_type": "code",
        "outputId": "78b18ba3-e09c-4fe3-dba2-6530c90efbde",
        "colab": {
          "base_uri": "https://localhost:8080/",
          "height": 90
        }
      },
      "source": [
        "data.dtypes.value_counts()"
      ],
      "execution_count": 42,
      "outputs": [
        {
          "output_type": "execute_result",
          "data": {
            "text/plain": [
              "float64    12\n",
              "int64       4\n",
              "object      3\n",
              "dtype: int64"
            ]
          },
          "metadata": {
            "tags": []
          },
          "execution_count": 42
        }
      ]
    },
    {
      "cell_type": "markdown",
      "metadata": {
        "id": "xPta1lzgye2y",
        "colab_type": "text"
      },
      "source": [
        "We will now convert the remaining 3 object columns to categorical."
      ]
    },
    {
      "cell_type": "code",
      "metadata": {
        "id": "MCd1h18RyZlo",
        "colab_type": "code",
        "outputId": "fa3b2f4c-30bd-4e2e-a4c9-943e643421ae",
        "colab": {
          "base_uri": "https://localhost:8080/",
          "height": 35
        }
      },
      "source": [
        "dummy_df = pd.get_dummies(data[categorical_cols])\n",
        "dummy_df.shape"
      ],
      "execution_count": 43,
      "outputs": [
        {
          "output_type": "execute_result",
          "data": {
            "text/plain": [
              "(37953, 21)"
            ]
          },
          "metadata": {
            "tags": []
          },
          "execution_count": 43
        }
      ]
    },
    {
      "cell_type": "code",
      "metadata": {
        "id": "wUf7uilhy2xe",
        "colab_type": "code",
        "colab": {}
      },
      "source": [
        "loans = pd.concat([data, dummy_df], axis=1)"
      ],
      "execution_count": 0,
      "outputs": []
    },
    {
      "cell_type": "code",
      "metadata": {
        "id": "97XY-GrV3Qc8",
        "colab_type": "code",
        "outputId": "52974cb3-b502-4806-92d7-34be9d6d17ed",
        "colab": {
          "base_uri": "https://localhost:8080/",
          "height": 90
        }
      },
      "source": [
        "loans.drop(categorical_cols, axis=1, inplace=True)\n",
        "loans.dtypes.value_counts()"
      ],
      "execution_count": 45,
      "outputs": [
        {
          "output_type": "execute_result",
          "data": {
            "text/plain": [
              "uint8      21\n",
              "float64    12\n",
              "int64       4\n",
              "dtype: int64"
            ]
          },
          "metadata": {
            "tags": []
          },
          "execution_count": 45
        }
      ]
    },
    {
      "cell_type": "markdown",
      "metadata": {
        "id": "4vZMYWKBBmT-",
        "colab_type": "text"
      },
      "source": [
        "## Predictive Modelling\n",
        "\n",
        "Since we are in the mindset of a conservative investor, identifying false positives is more crucial than false negatives (possible missed opportunities). Therefore, we should ultimately select a model that fits this criteria. "
      ]
    },
    {
      "cell_type": "code",
      "metadata": {
        "id": "0GBhzvIliJio",
        "colab_type": "code",
        "colab": {}
      },
      "source": [
        "from sklearn.ensemble import RandomForestClassifier\n",
        "from sklearn.linear_model import LogisticRegression\n",
        "from sklearn.model_selection import cross_val_predict\n",
        "from sklearn.metrics import confusion_matrix\n",
        "import warnings\n",
        "warnings.filterwarnings('ignore')"
      ],
      "execution_count": 0,
      "outputs": []
    },
    {
      "cell_type": "markdown",
      "metadata": {
        "id": "wiU5RNn2KgNI",
        "colab_type": "text"
      },
      "source": [
        "### Split dataframe into features and target columns"
      ]
    },
    {
      "cell_type": "code",
      "metadata": {
        "id": "GU722EiF4CXs",
        "colab_type": "code",
        "colab": {}
      },
      "source": [
        "target = loans['loan_status']"
      ],
      "execution_count": 0,
      "outputs": []
    },
    {
      "cell_type": "code",
      "metadata": {
        "id": "x6yMgU4DKsnb",
        "colab_type": "code",
        "colab": {}
      },
      "source": [
        "features = loans.drop(['loan_status'], axis=1)"
      ],
      "execution_count": 0,
      "outputs": []
    },
    {
      "cell_type": "code",
      "metadata": {
        "id": "UHnzLkdjasyN",
        "colab_type": "code",
        "outputId": "9da26f89-e643-4cb2-ee5b-c93af97e7697",
        "colab": {
          "base_uri": "https://localhost:8080/",
          "height": 72
        }
      },
      "source": [
        "target.value_counts()"
      ],
      "execution_count": 49,
      "outputs": [
        {
          "output_type": "execute_result",
          "data": {
            "text/plain": [
              "1    32648\n",
              "0     5305\n",
              "Name: loan_status, dtype: int64"
            ]
          },
          "metadata": {
            "tags": []
          },
          "execution_count": 49
        }
      ]
    },
    {
      "cell_type": "markdown",
      "metadata": {
        "id": "kX8zQr2aewEy",
        "colab_type": "text"
      },
      "source": [
        "### Random Forest Classifier\n",
        "\n",
        "This dataset consists of 85% positive values i.e where loan_status is *Fully Paid*. We will have to add weights to this model to \"balance\" the samples."
      ]
    },
    {
      "cell_type": "code",
      "metadata": {
        "id": "Xvi8OufyeJcJ",
        "colab_type": "code",
        "colab": {}
      },
      "source": [
        "rfc = RandomForestClassifier(class_weight='balanced')\n",
        "predictions = cross_val_predict(rfc, features, target, cv=10)"
      ],
      "execution_count": 0,
      "outputs": []
    },
    {
      "cell_type": "code",
      "metadata": {
        "id": "Q19vqv2hgfqX",
        "colab_type": "code",
        "colab": {}
      },
      "source": [
        "predictions = pd.Series(predictions)"
      ],
      "execution_count": 0,
      "outputs": []
    },
    {
      "cell_type": "code",
      "metadata": {
        "id": "T_UXjNCogmr7",
        "colab_type": "code",
        "colab": {}
      },
      "source": [
        "tn, fp, fn, tp = confusion_matrix(target, predictions).ravel()"
      ],
      "execution_count": 0,
      "outputs": []
    },
    {
      "cell_type": "code",
      "metadata": {
        "id": "9LRoY5Jxgr7X",
        "colab_type": "code",
        "outputId": "a09eb7c8-72f2-409c-c810-20d59b1b284f",
        "colab": {
          "base_uri": "https://localhost:8080/",
          "height": 35
        }
      },
      "source": [
        "true_positive_rate = float(tp) / (tp+fn)\n",
        "true_positive_rate"
      ],
      "execution_count": 53,
      "outputs": [
        {
          "output_type": "execute_result",
          "data": {
            "text/plain": [
              "0.977854692477334"
            ]
          },
          "metadata": {
            "tags": []
          },
          "execution_count": 53
        }
      ]
    },
    {
      "cell_type": "code",
      "metadata": {
        "id": "D5mOcpWMgvL6",
        "colab_type": "code",
        "outputId": "b450f0db-0f79-456c-e94a-0b7acc678894",
        "colab": {
          "base_uri": "https://localhost:8080/",
          "height": 35
        }
      },
      "source": [
        "false_positive_rate = float(fp) / (tn+fp)\n",
        "false_positive_rate"
      ],
      "execution_count": 54,
      "outputs": [
        {
          "output_type": "execute_result",
          "data": {
            "text/plain": [
              "0.9293119698397738"
            ]
          },
          "metadata": {
            "tags": []
          },
          "execution_count": 54
        }
      ]
    },
    {
      "cell_type": "markdown",
      "metadata": {
        "id": "czOZcrOFg05r",
        "colab_type": "text"
      },
      "source": [
        "This model is not ideal as the false positive rate is too high. "
      ]
    },
    {
      "cell_type": "markdown",
      "metadata": {
        "id": "GVJJJXy-K3rx",
        "colab_type": "text"
      },
      "source": [
        "### Logistic Regression\n",
        "\n",
        "Like the Random Forest model, we will have to add weights to the Logistic Regression model to \\\"balance\\\" the samples."
      ]
    },
    {
      "cell_type": "code",
      "metadata": {
        "id": "3Iiez49LKz4w",
        "colab_type": "code",
        "colab": {}
      },
      "source": [
        "lr = LogisticRegression(class_weight='balanced')\n",
        "predictions = cross_val_predict(lr, features, target, cv=10)"
      ],
      "execution_count": 0,
      "outputs": []
    },
    {
      "cell_type": "code",
      "metadata": {
        "id": "8zjzRhAoLMYh",
        "colab_type": "code",
        "colab": {}
      },
      "source": [
        "predictions = pd.Series(predictions)"
      ],
      "execution_count": 0,
      "outputs": []
    },
    {
      "cell_type": "code",
      "metadata": {
        "id": "yxMGsZXIPt54",
        "colab_type": "code",
        "colab": {}
      },
      "source": [
        "tn, fp, fn, tp = confusion_matrix(target, predictions).ravel()"
      ],
      "execution_count": 0,
      "outputs": []
    },
    {
      "cell_type": "code",
      "metadata": {
        "id": "vIeJXQD2QWkA",
        "colab_type": "code",
        "outputId": "5c6aa7b2-5b54-4cd0-d8fd-3e66c85d3b6d",
        "colab": {
          "base_uri": "https://localhost:8080/",
          "height": 35
        }
      },
      "source": [
        "true_positive_rate = float(tp) / (tp+fn)\n",
        "true_positive_rate"
      ],
      "execution_count": 58,
      "outputs": [
        {
          "output_type": "execute_result",
          "data": {
            "text/plain": [
              "0.6577125704484195"
            ]
          },
          "metadata": {
            "tags": []
          },
          "execution_count": 58
        }
      ]
    },
    {
      "cell_type": "code",
      "metadata": {
        "id": "u5KOybeMYZmr",
        "colab_type": "code",
        "outputId": "7ebba98a-bc3a-49b8-a6b9-99fa50f22596",
        "colab": {
          "base_uri": "https://localhost:8080/",
          "height": 35
        }
      },
      "source": [
        "false_positive_rate = float(fp) / (tn+fp)\n",
        "false_positive_rate"
      ],
      "execution_count": 59,
      "outputs": [
        {
          "output_type": "execute_result",
          "data": {
            "text/plain": [
              "0.37474081055607916"
            ]
          },
          "metadata": {
            "tags": []
          },
          "execution_count": 59
        }
      ]
    },
    {
      "cell_type": "markdown",
      "metadata": {
        "id": "FTQOG3jWc4D1",
        "colab_type": "text"
      },
      "source": [
        "We are still getting a 37% false positive rate. We will add a heavier weight for loan status of 0 to assign a heavier penalty for wrong classification. Given that the positive loan status is about 6 times of the negative loan status, *balanced* would give roughly 6 to the negative loan status when we used the *balanced* in *class_weights*. We will double it for the next model and assess the results.\n",
        "\n"
      ]
    },
    {
      "cell_type": "code",
      "metadata": {
        "id": "LmC7wVCVYjGq",
        "colab_type": "code",
        "colab": {}
      },
      "source": [
        "weights = {0: 12, 1: 1}\n",
        "lr = LogisticRegression(class_weight=weights)\n",
        "predictions = cross_val_predict(lr, features, target, cv=10)"
      ],
      "execution_count": 0,
      "outputs": []
    },
    {
      "cell_type": "code",
      "metadata": {
        "id": "jxn3ttmWd_GK",
        "colab_type": "code",
        "colab": {}
      },
      "source": [
        "predictions = pd.Series(predictions)"
      ],
      "execution_count": 0,
      "outputs": []
    },
    {
      "cell_type": "code",
      "metadata": {
        "id": "2UOC2HgBeCgP",
        "colab_type": "code",
        "colab": {}
      },
      "source": [
        "tn, fp, fn, tp = confusion_matrix(target, predictions).ravel()"
      ],
      "execution_count": 0,
      "outputs": []
    },
    {
      "cell_type": "code",
      "metadata": {
        "id": "L8W7mB1TeFEW",
        "colab_type": "code",
        "outputId": "9003680a-c1b6-4458-d677-0196e727a5b4",
        "colab": {
          "base_uri": "https://localhost:8080/",
          "height": 35
        }
      },
      "source": [
        "true_positive_rate = float(tp) / (tp+fn)\n",
        "true_positive_rate"
      ],
      "execution_count": 63,
      "outputs": [
        {
          "output_type": "execute_result",
          "data": {
            "text/plain": [
              "0.18212447929429063"
            ]
          },
          "metadata": {
            "tags": []
          },
          "execution_count": 63
        }
      ]
    },
    {
      "cell_type": "code",
      "metadata": {
        "id": "TUT3u_OWeHYI",
        "colab_type": "code",
        "outputId": "50355bae-4d2f-4e0a-f51e-885639621894",
        "colab": {
          "base_uri": "https://localhost:8080/",
          "height": 35
        }
      },
      "source": [
        "false_positive_rate = float(fp) / (tn+fp)\n",
        "false_positive_rate"
      ],
      "execution_count": 64,
      "outputs": [
        {
          "output_type": "execute_result",
          "data": {
            "text/plain": [
              "0.05504241281809614"
            ]
          },
          "metadata": {
            "tags": []
          },
          "execution_count": 64
        }
      ]
    },
    {
      "cell_type": "markdown",
      "metadata": {
        "id": "lcTyYMz4eK3S",
        "colab_type": "text"
      },
      "source": [
        "A conservative investor would favor this false positive rate. "
      ]
    },
    {
      "cell_type": "markdown",
      "metadata": {
        "id": "tP1JD8jzjmqc",
        "colab_type": "text"
      },
      "source": [
        "## Conclusion\n",
        "\n",
        "A conservative investor would likely be comfortable with the Logistic Regression model with adjusted weights to balance this heavily positive dataset. However, the trade-off is that this investor would miss out on many opportunities where the loan would be paid back."
      ]
    }
  ]
}